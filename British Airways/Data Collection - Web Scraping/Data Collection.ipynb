{
 "cells": [
  {
   "cell_type": "markdown",
   "id": "c5f3cc0d",
   "metadata": {},
   "source": [
    "Data Collection by web scraping\n"
   ]
  },
  {
   "cell_type": "code",
   "execution_count": 12,
   "id": "0310eacf",
   "metadata": {},
   "outputs": [],
   "source": [
    "#Importing Libraries\n",
    "import pandas as pd\n",
    "import numpy as np\n",
    "from bs4 import BeautifulSoup\n",
    "import requests"
   ]
  },
  {
   "cell_type": "markdown",
   "id": "7c282fca",
   "metadata": {},
   "source": [
    "The data is collected from \"https://www.airlinequality.com/airline-reviews/british-airways\""
   ]
  },
  {
   "cell_type": "code",
   "execution_count": 13,
   "id": "e17518ab",
   "metadata": {},
   "outputs": [],
   "source": [
    "#Create an empty list to collect all the reviews \n",
    "reviews = []\n",
    "\n",
    "#Create an empty list to collect ratings \n",
    "stars = []\n",
    "\n",
    "#create an empty list to collect date\n",
    "date = []\n",
    "\n",
    "#create an empty list to collect country the reviewer is from\n",
    "country = []"
   ]
  },
  {
   "cell_type": "code",
   "execution_count": 14,
   "id": "3fd215e3",
   "metadata": {},
   "outputs": [
    {
     "name": "stdout",
     "output_type": "stream",
     "text": [
      "Error on page31\n",
      "Error on page32\n",
      "Error on page32\n",
      "Error on page35\n",
      "Error on page35\n"
     ]
    }
   ],
   "source": [
    "for i in range(1,36):\n",
    "    page = requests.get(f\"https://www.airlinequality.com/airline-reviews/british-airways/page/{i}/?sortby=post_date%3ADesc&pagesize=100\")\n",
    "    \n",
    "    soup = BeautifulSoup(page.content, \"html5\")\n",
    "    \n",
    "    #reviews\n",
    "    for item in soup.find_all(\"div\", class_=\"text_content\"):\n",
    "        reviews.append(item.text)\n",
    "    \n",
    "    #ratings\n",
    "    for item in soup.find_all(\"div\", class_=\"rating-10\"):\n",
    "        try:\n",
    "            stars.append(item.span.text)\n",
    "        except:\n",
    "            print(f\"Error on page{i}\")\n",
    "            stars.append(\"None\")\n",
    "    \n",
    "    #date\n",
    "    for item in soup.find_all(\"time\"):\n",
    "        date.append(item.text)\n",
    "    \n",
    "    #country\n",
    "    for item in soup.find_all(\"h3\"):\n",
    "        country.append(item.span.next_sibling.text.strip(\" ()\"))\n",
    "    "
   ]
  },
  {
   "cell_type": "code",
   "execution_count": 15,
   "id": "3a12f7dd",
   "metadata": {},
   "outputs": [
    {
     "data": {
      "text/plain": [
       "3500"
      ]
     },
     "execution_count": 15,
     "metadata": {},
     "output_type": "execute_result"
    }
   ],
   "source": [
    "#length of total reviews collected\n",
    "len(reviews)"
   ]
  },
  {
   "cell_type": "code",
   "execution_count": 16,
   "id": "1e2838f0",
   "metadata": {},
   "outputs": [
    {
     "data": {
      "text/plain": [
       "3500"
      ]
     },
     "execution_count": 16,
     "metadata": {},
     "output_type": "execute_result"
    }
   ],
   "source": [
    "#Length of country\n",
    "len(country)"
   ]
  },
  {
   "cell_type": "code",
   "execution_count": 17,
   "id": "c6f06d1b",
   "metadata": {},
   "outputs": [
    {
     "data": {
      "text/plain": [
       "3535"
      ]
     },
     "execution_count": 17,
     "metadata": {},
     "output_type": "execute_result"
    }
   ],
   "source": [
    "#length of rating stars\n",
    "len(stars)"
   ]
  },
  {
   "cell_type": "code",
   "execution_count": 18,
   "id": "9612e814",
   "metadata": {},
   "outputs": [],
   "source": [
    "stars = stars[:3500]"
   ]
  },
  {
   "cell_type": "code",
   "execution_count": 19,
   "id": "c133298d",
   "metadata": {},
   "outputs": [],
   "source": [
    "#create a dataframe from these collected data\n",
    "df = pd.DataFrame({\"reviews\":reviews,\"stars\":stars, \"date\": date, \"country\": country})"
   ]
  },
  {
   "cell_type": "code",
   "execution_count": 20,
   "id": "00eb317d",
   "metadata": {},
   "outputs": [
    {
     "data": {
      "text/html": [
       "<div>\n",
       "<style scoped>\n",
       "    .dataframe tbody tr th:only-of-type {\n",
       "        vertical-align: middle;\n",
       "    }\n",
       "\n",
       "    .dataframe tbody tr th {\n",
       "        vertical-align: top;\n",
       "    }\n",
       "\n",
       "    .dataframe thead th {\n",
       "        text-align: right;\n",
       "    }\n",
       "</style>\n",
       "<table border=\"1\" class=\"dataframe\">\n",
       "  <thead>\n",
       "    <tr style=\"text-align: right;\">\n",
       "      <th></th>\n",
       "      <th>reviews</th>\n",
       "      <th>stars</th>\n",
       "      <th>date</th>\n",
       "      <th>country</th>\n",
       "    </tr>\n",
       "  </thead>\n",
       "  <tbody>\n",
       "    <tr>\n",
       "      <th>0</th>\n",
       "      <td>✅ Trip Verified | An airline that lives in the...</td>\n",
       "      <td>\\n\\t\\t\\t\\t\\t\\t\\t\\t\\t\\t\\t\\t\\t5</td>\n",
       "      <td>26th July 2023</td>\n",
       "      <td>Qatar</td>\n",
       "    </tr>\n",
       "    <tr>\n",
       "      <th>1</th>\n",
       "      <td>✅ Trip Verified |  Check-in Desk rude and dism...</td>\n",
       "      <td>1</td>\n",
       "      <td>26th July 2023</td>\n",
       "      <td>United Kingdom</td>\n",
       "    </tr>\n",
       "    <tr>\n",
       "      <th>2</th>\n",
       "      <td>✅ Trip Verified | I chose British Airways espe...</td>\n",
       "      <td>2</td>\n",
       "      <td>25th July 2023</td>\n",
       "      <td>Spain</td>\n",
       "    </tr>\n",
       "    <tr>\n",
       "      <th>3</th>\n",
       "      <td>Not Verified | I booked Premium Economy from I...</td>\n",
       "      <td>1</td>\n",
       "      <td>24th July 2023</td>\n",
       "      <td>United Kingdom</td>\n",
       "    </tr>\n",
       "    <tr>\n",
       "      <th>4</th>\n",
       "      <td>✅ Trip Verified | A simple story with an unfor...</td>\n",
       "      <td>1</td>\n",
       "      <td>21st July 2023</td>\n",
       "      <td>Germany</td>\n",
       "    </tr>\n",
       "  </tbody>\n",
       "</table>\n",
       "</div>"
      ],
      "text/plain": [
       "                                             reviews  \\\n",
       "0  ✅ Trip Verified | An airline that lives in the...   \n",
       "1  ✅ Trip Verified |  Check-in Desk rude and dism...   \n",
       "2  ✅ Trip Verified | I chose British Airways espe...   \n",
       "3  Not Verified | I booked Premium Economy from I...   \n",
       "4  ✅ Trip Verified | A simple story with an unfor...   \n",
       "\n",
       "                           stars            date         country  \n",
       "0  \\n\\t\\t\\t\\t\\t\\t\\t\\t\\t\\t\\t\\t\\t5  26th July 2023           Qatar  \n",
       "1                              1  26th July 2023  United Kingdom  \n",
       "2                              2  25th July 2023           Spain  \n",
       "3                              1  24th July 2023  United Kingdom  \n",
       "4                              1  21st July 2023         Germany  "
      ]
     },
     "execution_count": 20,
     "metadata": {},
     "output_type": "execute_result"
    }
   ],
   "source": [
    "df.head()"
   ]
  },
  {
   "cell_type": "code",
   "execution_count": 21,
   "id": "38229622",
   "metadata": {},
   "outputs": [
    {
     "data": {
      "text/plain": [
       "(3500, 4)"
      ]
     },
     "execution_count": 21,
     "metadata": {},
     "output_type": "execute_result"
    }
   ],
   "source": [
    "df.shape"
   ]
  },
  {
   "cell_type": "markdown",
   "id": "89721e83",
   "metadata": {},
   "source": [
    "Export the dataframe into a csv "
   ]
  },
  {
   "cell_type": "code",
   "execution_count": 22,
   "id": "1c1b2777",
   "metadata": {},
   "outputs": [],
   "source": [
    "import os\n",
    "\n",
    "cwd = os.getcwd()\n",
    "df.to_csv(cwd+ \"/BA_dataset.csv\")"
   ]
  }
 ],
 "metadata": {
  "kernelspec": {
   "display_name": "Python 3 (ipykernel)",
   "language": "python",
   "name": "python3"
  },
  "language_info": {
   "codemirror_mode": {
    "name": "ipython",
    "version": 3
   },
   "file_extension": ".py",
   "mimetype": "text/x-python",
   "name": "python",
   "nbconvert_exporter": "python",
   "pygments_lexer": "ipython3",
   "version": "3.8.12"
  }
 },
 "nbformat": 4,
 "nbformat_minor": 5
}

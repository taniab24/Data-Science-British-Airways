{
 "cells": [
  {
   "cell_type": "markdown",
   "id": "255d786b",
   "metadata": {},
   "source": [
    "Exploratory Data Analysis"
   ]
  },
  {
   "cell_type": "code",
   "execution_count": 1,
   "id": "63652515",
   "metadata": {},
   "outputs": [],
   "source": [
    "#Import Libraries\n",
    "import pandas as pd\n",
    "import numpy as np\n",
    "import os\n",
    "\n",
    "import matplotlib.pyplot as plt\n",
    "import seaborn as sns\n",
    "import plotly.express as px\n",
    "\n",
    "import datetime as dt\n",
    "\n",
    "from wordcloud import WordCloud, STOPWORDS"
   ]
  },
  {
   "cell_type": "code",
   "execution_count": 3,
   "id": "d9286691",
   "metadata": {},
   "outputs": [],
   "source": [
    "#Create the dataframe\n",
    "cwd = os.getcwd()\n",
    "df = pd.read_csv(cwd + \"/Cleaned_BA_Dataset.csv\", index_col=0)\n",
    "\n",
    "#Let's also reset the index\n",
    "df = df.reset_index(drop=True)"
   ]
  },
  {
   "cell_type": "code",
   "execution_count": 4,
   "id": "00357fc1",
   "metadata": {},
   "outputs": [
    {
     "data": {
      "text/html": [
       "<div>\n",
       "<style scoped>\n",
       "    .dataframe tbody tr th:only-of-type {\n",
       "        vertical-align: middle;\n",
       "    }\n",
       "\n",
       "    .dataframe tbody tr th {\n",
       "        vertical-align: top;\n",
       "    }\n",
       "\n",
       "    .dataframe thead th {\n",
       "        text-align: right;\n",
       "    }\n",
       "</style>\n",
       "<table border=\"1\" class=\"dataframe\">\n",
       "  <thead>\n",
       "    <tr style=\"text-align: right;\">\n",
       "      <th></th>\n",
       "      <th>reviews</th>\n",
       "      <th>stars</th>\n",
       "      <th>date</th>\n",
       "      <th>country</th>\n",
       "      <th>verified</th>\n",
       "      <th>corpus</th>\n",
       "      <th>Cleaned_reviews</th>\n",
       "    </tr>\n",
       "  </thead>\n",
       "  <tbody>\n",
       "    <tr>\n",
       "      <th>0</th>\n",
       "      <td>✅ Trip Verified | An airline that lives in the...</td>\n",
       "      <td>5</td>\n",
       "      <td>2023-07-26</td>\n",
       "      <td>Qatar</td>\n",
       "      <td>False</td>\n",
       "      <td>airline life past glory heading future crisis ...</td>\n",
       "      <td>airline life past glory heading future crisis ...</td>\n",
       "    </tr>\n",
       "    <tr>\n",
       "      <th>1</th>\n",
       "      <td>✅ Trip Verified |  Check-in Desk rude and dism...</td>\n",
       "      <td>1</td>\n",
       "      <td>2023-07-26</td>\n",
       "      <td>United Kingdom</td>\n",
       "      <td>False</td>\n",
       "      <td>check desk rude dismissive flight late seems n...</td>\n",
       "      <td>check desk rude dismissive flight late seems n...</td>\n",
       "    </tr>\n",
       "    <tr>\n",
       "      <th>2</th>\n",
       "      <td>✅ Trip Verified | I chose British Airways espe...</td>\n",
       "      <td>2</td>\n",
       "      <td>2023-07-25</td>\n",
       "      <td>Spain</td>\n",
       "      <td>False</td>\n",
       "      <td>chose british airway especially going travel n...</td>\n",
       "      <td>chose british airway especially going travel n...</td>\n",
       "    </tr>\n",
       "    <tr>\n",
       "      <th>3</th>\n",
       "      <td>Not Verified | I booked Premium Economy from I...</td>\n",
       "      <td>1</td>\n",
       "      <td>2023-07-24</td>\n",
       "      <td>United Kingdom</td>\n",
       "      <td>False</td>\n",
       "      <td>verified booked premium economy inv lax via lh...</td>\n",
       "      <td>verified booked premium economy inv lax via lh...</td>\n",
       "    </tr>\n",
       "    <tr>\n",
       "      <th>4</th>\n",
       "      <td>✅ Trip Verified | A simple story with an unfor...</td>\n",
       "      <td>1</td>\n",
       "      <td>2023-07-21</td>\n",
       "      <td>Germany</td>\n",
       "      <td>False</td>\n",
       "      <td>simple story unfortunate outcome really could ...</td>\n",
       "      <td>simple story unfortunate outcome really could ...</td>\n",
       "    </tr>\n",
       "  </tbody>\n",
       "</table>\n",
       "</div>"
      ],
      "text/plain": [
       "                                             reviews  stars        date  \\\n",
       "0  ✅ Trip Verified | An airline that lives in the...      5  2023-07-26   \n",
       "1  ✅ Trip Verified |  Check-in Desk rude and dism...      1  2023-07-26   \n",
       "2  ✅ Trip Verified | I chose British Airways espe...      2  2023-07-25   \n",
       "3  Not Verified | I booked Premium Economy from I...      1  2023-07-24   \n",
       "4  ✅ Trip Verified | A simple story with an unfor...      1  2023-07-21   \n",
       "\n",
       "          country  verified  \\\n",
       "0           Qatar     False   \n",
       "1  United Kingdom     False   \n",
       "2           Spain     False   \n",
       "3  United Kingdom     False   \n",
       "4         Germany     False   \n",
       "\n",
       "                                              corpus  \\\n",
       "0  airline life past glory heading future crisis ...   \n",
       "1  check desk rude dismissive flight late seems n...   \n",
       "2  chose british airway especially going travel n...   \n",
       "3  verified booked premium economy inv lax via lh...   \n",
       "4  simple story unfortunate outcome really could ...   \n",
       "\n",
       "                                     Cleaned_reviews  \n",
       "0  airline life past glory heading future crisis ...  \n",
       "1  check desk rude dismissive flight late seems n...  \n",
       "2  chose british airway especially going travel n...  \n",
       "3  verified booked premium economy inv lax via lh...  \n",
       "4  simple story unfortunate outcome really could ...  "
      ]
     },
     "execution_count": 4,
     "metadata": {},
     "output_type": "execute_result"
    }
   ],
   "source": [
    "df.head()"
   ]
  },
  {
   "cell_type": "code",
   "execution_count": 5,
   "id": "ae0f71c8",
   "metadata": {},
   "outputs": [
    {
     "name": "stdout",
     "output_type": "stream",
     "text": [
      "<class 'pandas.core.frame.DataFrame'>\n",
      "RangeIndex: 3493 entries, 0 to 3492\n",
      "Data columns (total 7 columns):\n",
      " #   Column           Non-Null Count  Dtype \n",
      "---  ------           --------------  ----- \n",
      " 0   reviews          3493 non-null   object\n",
      " 1   stars            3493 non-null   int64 \n",
      " 2   date             3493 non-null   object\n",
      " 3   country          3493 non-null   object\n",
      " 4   verified         3493 non-null   bool  \n",
      " 5   corpus           3493 non-null   object\n",
      " 6   Cleaned_reviews  3493 non-null   object\n",
      "dtypes: bool(1), int64(1), object(5)\n",
      "memory usage: 167.3+ KB\n"
     ]
    }
   ],
   "source": [
    "df.info()"
   ]
  },
  {
   "cell_type": "code",
   "execution_count": 8,
   "id": "fd545845",
   "metadata": {},
   "outputs": [
    {
     "data": {
      "text/plain": [
       "4.724305754365875"
      ]
     },
     "execution_count": 8,
     "metadata": {},
     "output_type": "execute_result"
    }
   ],
   "source": [
    "#Finding the average of overall rating given for British Airways\n",
    "df.stars.mean()"
   ]
  },
  {
   "cell_type": "code",
   "execution_count": 10,
   "id": "0507fe6c",
   "metadata": {},
   "outputs": [
    {
     "data": {
      "text/plain": [
       "Text(0.5, 0.98, 'Counts for each ratings')"
      ]
     },
     "execution_count": 10,
     "metadata": {},
     "output_type": "execute_result"
    },
    {
     "data": {
      "image/png": "[encoded data removed]",
      "text/plain": [
       "<Figure size 432x288 with 1 Axes>"
      ]
     },
     "metadata": {
      "needs_background": "light"
     },
     "output_type": "display_data"
    }
   ],
   "source": [
    "#Visualizing each rating \n",
    "df.stars.value_counts().plot(kind=\"bar\")\n",
    "plt.xlabel(\"Ratings\")\n",
    "plt.ylabel(\"Total number of Ratings\")\n",
    "plt.suptitle(\"Counts for each ratings\")"
   ]
  },
  {
   "cell_type": "markdown",
   "id": "c79c3435",
   "metadata": {},
   "source": [
    "The maximum rating is 1 as per the above bar graph"
   ]
  },
  {
   "cell_type": "code",
   "execution_count": 12,
   "id": "059428ee",
   "metadata": {},
   "outputs": [],
   "source": [
    "df_ratings = pd.DataFrame(df.stars.value_counts())\n",
    "\n",
    "#the percentage of each count relative to the total count, thus giving the percentage of occurrence for each unique rating\n",
    "pct_values = (df_ratings.stars.values/ df_ratings.stars.values.sum() *100).tolist()\n",
    "\n",
    "#This line uses list comprehension to round each value in the pct_values list to two decimal places.\n",
    "pct_values = [round(x,2) for x in pct_values]\n",
    "\n",
    "df_ratings['pct_values'] = pct_values"
   ]
  },
  {
   "cell_type": "code",
   "execution_count": 13,
   "id": "d79896d7",
   "metadata": {},
   "outputs": [],
   "source": [
    "#resetting index as we do not want to confuse between the index and the rating values\n",
    "df_ratings = df_ratings.reset_index()"
   ]
  },
  {
   "cell_type": "code",
   "execution_count": 14,
   "id": "35f8d96a",
   "metadata": {},
   "outputs": [],
   "source": [
    "# renaming columns\n",
    "df_ratings.rename(columns={'index':'Stars', 'stars':'total_counts'}, inplace=True)"
   ]
  },
  {
   "cell_type": "code",
   "execution_count": 15,
   "id": "deec8c68",
   "metadata": {},
   "outputs": [
    {
     "data": {
      "text/html": [
       "<div>\n",
       "<style scoped>\n",
       "    .dataframe tbody tr th:only-of-type {\n",
       "        vertical-align: middle;\n",
       "    }\n",
       "\n",
       "    .dataframe tbody tr th {\n",
       "        vertical-align: top;\n",
       "    }\n",
       "\n",
       "    .dataframe thead th {\n",
       "        text-align: right;\n",
       "    }\n",
       "</style>\n",
       "<table border=\"1\" class=\"dataframe\">\n",
       "  <thead>\n",
       "    <tr style=\"text-align: right;\">\n",
       "      <th></th>\n",
       "      <th>Stars</th>\n",
       "      <th>total_counts</th>\n",
       "      <th>pct_values</th>\n",
       "    </tr>\n",
       "  </thead>\n",
       "  <tbody>\n",
       "    <tr>\n",
       "      <th>0</th>\n",
       "      <td>1</td>\n",
       "      <td>804</td>\n",
       "      <td>23.02</td>\n",
       "    </tr>\n",
       "    <tr>\n",
       "      <th>1</th>\n",
       "      <td>2</td>\n",
       "      <td>401</td>\n",
       "      <td>11.48</td>\n",
       "    </tr>\n",
       "    <tr>\n",
       "      <th>2</th>\n",
       "      <td>3</td>\n",
       "      <td>392</td>\n",
       "      <td>11.22</td>\n",
       "    </tr>\n",
       "    <tr>\n",
       "      <th>3</th>\n",
       "      <td>8</td>\n",
       "      <td>347</td>\n",
       "      <td>9.93</td>\n",
       "    </tr>\n",
       "    <tr>\n",
       "      <th>4</th>\n",
       "      <td>10</td>\n",
       "      <td>302</td>\n",
       "      <td>8.65</td>\n",
       "    </tr>\n",
       "    <tr>\n",
       "      <th>5</th>\n",
       "      <td>9</td>\n",
       "      <td>293</td>\n",
       "      <td>8.39</td>\n",
       "    </tr>\n",
       "    <tr>\n",
       "      <th>6</th>\n",
       "      <td>7</td>\n",
       "      <td>293</td>\n",
       "      <td>8.39</td>\n",
       "    </tr>\n",
       "    <tr>\n",
       "      <th>7</th>\n",
       "      <td>5</td>\n",
       "      <td>250</td>\n",
       "      <td>7.16</td>\n",
       "    </tr>\n",
       "    <tr>\n",
       "      <th>8</th>\n",
       "      <td>4</td>\n",
       "      <td>240</td>\n",
       "      <td>6.87</td>\n",
       "    </tr>\n",
       "    <tr>\n",
       "      <th>9</th>\n",
       "      <td>6</td>\n",
       "      <td>171</td>\n",
       "      <td>4.90</td>\n",
       "    </tr>\n",
       "  </tbody>\n",
       "</table>\n",
       "</div>"
      ],
      "text/plain": [
       "   Stars  total_counts  pct_values\n",
       "0      1           804       23.02\n",
       "1      2           401       11.48\n",
       "2      3           392       11.22\n",
       "3      8           347        9.93\n",
       "4     10           302        8.65\n",
       "5      9           293        8.39\n",
       "6      7           293        8.39\n",
       "7      5           250        7.16\n",
       "8      4           240        6.87\n",
       "9      6           171        4.90"
      ]
     },
     "execution_count": 15,
     "metadata": {},
     "output_type": "execute_result"
    }
   ],
   "source": [
    "df_ratings"
   ]
  },
  {
   "cell_type": "code",
   "execution_count": 17,
   "id": "c59ce322",
   "metadata": {},
   "outputs": [
    {
     "data": {
      "text/plain": [
       "Text(0.5, 1.0, 'Counts for each ratings')"
      ]
     },
     "execution_count": 17,
     "metadata": {},
     "output_type": "execute_result"
    },
    {
     "data": {
      "image/png": "[encoded data removed]",
      "text/plain": [
       "<Figure size 432x288 with 1 Axes>"
      ]
     },
     "metadata": {
      "needs_background": "light"
     },
     "output_type": "display_data"
    }
   ],
   "source": [
    "clrs = ['Blue' if (x ==  max(df_ratings.total_counts)) else 'Red' for x in df_ratings.total_counts ]\n",
    "ax = sns.barplot(x=df_ratings.Stars, y=df_ratings.total_counts, data=df_ratings, errwidth=0,\n",
    "                palette=clrs)\n",
    "\n",
    "\n",
    "ax.bar_label(ax.containers[0])\n",
    "    \n",
    "ax.set_xlabel(\"Ratings\")\n",
    "ax.set_ylabel(\"Total Number of reviews with that rating\")\n",
    "ax.set_title(\"Counts for each ratings\")"
   ]
  },
  {
   "cell_type": "code",
   "execution_count": 18,
   "id": "eee20f6e",
   "metadata": {},
   "outputs": [
    {
     "name": "stdout",
     "output_type": "stream",
     "text": [
      "69 unique countries\n"
     ]
    }
   ],
   "source": [
    "# Unique countries BA recieved the reviews from\n",
    "\n",
    "print(f\"{len(df.country.unique())} unique countries\")"
   ]
  },
  {
   "cell_type": "code",
   "execution_count": 19,
   "id": "3cb16a03",
   "metadata": {},
   "outputs": [],
   "source": [
    "#From which country did most of the reviews come from?\n",
    "df_country_review = pd.DataFrame(df.country.value_counts().head()).reset_index()"
   ]
  },
  {
   "cell_type": "code",
   "execution_count": 20,
   "id": "b8bf675c",
   "metadata": {},
   "outputs": [],
   "source": [
    "df_country_review.rename(columns={'index':'country','country':'total_reviews'}, inplace=True)"
   ]
  },
  {
   "cell_type": "code",
   "execution_count": 22,
   "id": "a5b8dff8",
   "metadata": {},
   "outputs": [
    {
     "data": {
      "text/html": [
       "<div>\n",
       "<style scoped>\n",
       "    .dataframe tbody tr th:only-of-type {\n",
       "        vertical-align: middle;\n",
       "    }\n",
       "\n",
       "    .dataframe tbody tr th {\n",
       "        vertical-align: top;\n",
       "    }\n",
       "\n",
       "    .dataframe thead th {\n",
       "        text-align: right;\n",
       "    }\n",
       "</style>\n",
       "<table border=\"1\" class=\"dataframe\">\n",
       "  <thead>\n",
       "    <tr style=\"text-align: right;\">\n",
       "      <th></th>\n",
       "      <th>country</th>\n",
       "      <th>total_reviews</th>\n",
       "    </tr>\n",
       "  </thead>\n",
       "  <tbody>\n",
       "    <tr>\n",
       "      <th>0</th>\n",
       "      <td>United Kingdom</td>\n",
       "      <td>2193</td>\n",
       "    </tr>\n",
       "    <tr>\n",
       "      <th>1</th>\n",
       "      <td>United States</td>\n",
       "      <td>388</td>\n",
       "    </tr>\n",
       "    <tr>\n",
       "      <th>2</th>\n",
       "      <td>Australia</td>\n",
       "      <td>149</td>\n",
       "    </tr>\n",
       "    <tr>\n",
       "      <th>3</th>\n",
       "      <td>Canada</td>\n",
       "      <td>107</td>\n",
       "    </tr>\n",
       "    <tr>\n",
       "      <th>4</th>\n",
       "      <td>Germany</td>\n",
       "      <td>60</td>\n",
       "    </tr>\n",
       "  </tbody>\n",
       "</table>\n",
       "</div>"
      ],
      "text/plain": [
       "          country  total_reviews\n",
       "0  United Kingdom           2193\n",
       "1   United States            388\n",
       "2       Australia            149\n",
       "3          Canada            107\n",
       "4         Germany             60"
      ]
     },
     "execution_count": 22,
     "metadata": {},
     "output_type": "execute_result"
    }
   ],
   "source": [
    "df_country_review.head()"
   ]
  },
  {
   "cell_type": "code",
   "execution_count": 24,
   "id": "c3930ffa",
   "metadata": {},
   "outputs": [
    {
     "data": {
      "text/plain": [
       "Text(0.5, 1.0, 'Maximum number of review by country')"
      ]
     },
     "execution_count": 24,
     "metadata": {},
     "output_type": "execute_result"
    },
    {
     "data": {
      "image/png": "[encoded data removed]",
      "text/plain": [
       "<Figure size 432x288 with 1 Axes>"
      ]
     },
     "metadata": {
      "needs_background": "light"
     },
     "output_type": "display_data"
    }
   ],
   "source": [
    "df_country_review.plot(kind=\"bar\", x='country')\n",
    "plt.ylabel(\"Country review count\")\n",
    "plt.title(\"Maximum number of review by country\")"
   ]
  },
  {
   "cell_type": "code",
   "execution_count": null,
   "id": "42e304dd",
   "metadata": {},
   "outputs": [],
   "source": []
  },
  {
   "cell_type": "code",
   "execution_count": null,
   "id": "5206a1c1",
   "metadata": {},
   "outputs": [],
   "source": []
  },
  {
   "cell_type": "code",
   "execution_count": null,
   "id": "6ce615af",
   "metadata": {},
   "outputs": [],
   "source": []
  }
 ],
 "metadata": {
  "kernelspec": {
   "display_name": "Python 3 (ipykernel)",
   "language": "python",
   "name": "python3"
  },
  "language_info": {
   "codemirror_mode": {
    "name": "ipython",
    "version": 3
   },
   "file_extension": ".py",
   "mimetype": "text/x-python",
   "name": "python",
   "nbconvert_exporter": "python",
   "pygments_lexer": "ipython3",
   "version": "3.8.12"
  }
 },
 "nbformat": 4,
 "nbformat_minor": 5
}

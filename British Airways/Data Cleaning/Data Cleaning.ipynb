{
 "cells": [
  {
   "cell_type": "markdown",
   "id": "c72e1505",
   "metadata": {},
   "source": [
    "Data Cleaning"
   ]
  },
  {
   "cell_type": "code",
   "execution_count": 1,
   "id": "985e40b2",
   "metadata": {},
   "outputs": [],
   "source": [
    "#Import Libraries\n",
    "import pandas as pd\n",
    "import matplotlib.pyplot as plt\n",
    "import seaborn as sns\n",
    "import os\n",
    "\n",
    "#regex\n",
    "import re"
   ]
  },
  {
   "cell_type": "code",
   "execution_count": 2,
   "id": "38e6ad1e",
   "metadata": {},
   "outputs": [],
   "source": [
    "#Create a dataframe from csv file\n",
    "cwd = os.getcwd()\n",
    "df = pd.read_csv(cwd + \"/BA_dataset.csv\", index_col=0)"
   ]
  },
  {
   "cell_type": "code",
   "execution_count": 3,
   "id": "08219e5a",
   "metadata": {},
   "outputs": [
    {
     "data": {
      "text/html": [
       "<div>\n",
       "<style scoped>\n",
       "    .dataframe tbody tr th:only-of-type {\n",
       "        vertical-align: middle;\n",
       "    }\n",
       "\n",
       "    .dataframe tbody tr th {\n",
       "        vertical-align: top;\n",
       "    }\n",
       "\n",
       "    .dataframe thead th {\n",
       "        text-align: right;\n",
       "    }\n",
       "</style>\n",
       "<table border=\"1\" class=\"dataframe\">\n",
       "  <thead>\n",
       "    <tr style=\"text-align: right;\">\n",
       "      <th></th>\n",
       "      <th>reviews</th>\n",
       "      <th>stars</th>\n",
       "      <th>date</th>\n",
       "      <th>country</th>\n",
       "    </tr>\n",
       "  </thead>\n",
       "  <tbody>\n",
       "    <tr>\n",
       "      <th>0</th>\n",
       "      <td>✅ Trip Verified | An airline that lives in the...</td>\n",
       "      <td>\\n\\t\\t\\t\\t\\t\\t\\t\\t\\t\\t\\t\\t\\t5</td>\n",
       "      <td>26th July 2023</td>\n",
       "      <td>Qatar</td>\n",
       "    </tr>\n",
       "    <tr>\n",
       "      <th>1</th>\n",
       "      <td>✅ Trip Verified |  Check-in Desk rude and dism...</td>\n",
       "      <td>1</td>\n",
       "      <td>26th July 2023</td>\n",
       "      <td>United Kingdom</td>\n",
       "    </tr>\n",
       "    <tr>\n",
       "      <th>2</th>\n",
       "      <td>✅ Trip Verified | I chose British Airways espe...</td>\n",
       "      <td>2</td>\n",
       "      <td>25th July 2023</td>\n",
       "      <td>Spain</td>\n",
       "    </tr>\n",
       "    <tr>\n",
       "      <th>3</th>\n",
       "      <td>Not Verified | I booked Premium Economy from I...</td>\n",
       "      <td>1</td>\n",
       "      <td>24th July 2023</td>\n",
       "      <td>United Kingdom</td>\n",
       "    </tr>\n",
       "    <tr>\n",
       "      <th>4</th>\n",
       "      <td>✅ Trip Verified | A simple story with an unfor...</td>\n",
       "      <td>1</td>\n",
       "      <td>21st July 2023</td>\n",
       "      <td>Germany</td>\n",
       "    </tr>\n",
       "  </tbody>\n",
       "</table>\n",
       "</div>"
      ],
      "text/plain": [
       "                                             reviews  \\\n",
       "0  ✅ Trip Verified | An airline that lives in the...   \n",
       "1  ✅ Trip Verified |  Check-in Desk rude and dism...   \n",
       "2  ✅ Trip Verified | I chose British Airways espe...   \n",
       "3  Not Verified | I booked Premium Economy from I...   \n",
       "4  ✅ Trip Verified | A simple story with an unfor...   \n",
       "\n",
       "                           stars            date         country  \n",
       "0  \\n\\t\\t\\t\\t\\t\\t\\t\\t\\t\\t\\t\\t\\t5  26th July 2023           Qatar  \n",
       "1                              1  26th July 2023  United Kingdom  \n",
       "2                              2  25th July 2023           Spain  \n",
       "3                              1  24th July 2023  United Kingdom  \n",
       "4                              1  21st July 2023         Germany  "
      ]
     },
     "execution_count": 3,
     "metadata": {},
     "output_type": "execute_result"
    }
   ],
   "source": [
    "df.head()"
   ]
  },
  {
   "cell_type": "code",
   "execution_count": 4,
   "id": "bbaf837b",
   "metadata": {},
   "outputs": [
    {
     "data": {
      "text/plain": [
       "0       False\n",
       "1       False\n",
       "2       False\n",
       "3       False\n",
       "4       False\n",
       "        ...  \n",
       "3495    False\n",
       "3496    False\n",
       "3497    False\n",
       "3498    False\n",
       "3499    False\n",
       "Name: verified, Length: 3500, dtype: bool"
      ]
     },
     "execution_count": 4,
     "metadata": {},
     "output_type": "execute_result"
    }
   ],
   "source": [
    "#Create a column which identifies if the user is verified or not\n",
    "df['verified'] = df.reviews.str.contains(\"Trip verified\")\n",
    "df['verified']"
   ]
  },
  {
   "cell_type": "code",
   "execution_count": 5,
   "id": "3e022ba6",
   "metadata": {},
   "outputs": [
    {
     "data": {
      "text/html": [
       "<div>\n",
       "<style scoped>\n",
       "    .dataframe tbody tr th:only-of-type {\n",
       "        vertical-align: middle;\n",
       "    }\n",
       "\n",
       "    .dataframe tbody tr th {\n",
       "        vertical-align: top;\n",
       "    }\n",
       "\n",
       "    .dataframe thead th {\n",
       "        text-align: right;\n",
       "    }\n",
       "</style>\n",
       "<table border=\"1\" class=\"dataframe\">\n",
       "  <thead>\n",
       "    <tr style=\"text-align: right;\">\n",
       "      <th></th>\n",
       "      <th>reviews</th>\n",
       "      <th>stars</th>\n",
       "      <th>date</th>\n",
       "      <th>country</th>\n",
       "      <th>verified</th>\n",
       "    </tr>\n",
       "  </thead>\n",
       "  <tbody>\n",
       "    <tr>\n",
       "      <th>0</th>\n",
       "      <td>✅ Trip Verified | An airline that lives in the...</td>\n",
       "      <td>\\n\\t\\t\\t\\t\\t\\t\\t\\t\\t\\t\\t\\t\\t5</td>\n",
       "      <td>26th July 2023</td>\n",
       "      <td>Qatar</td>\n",
       "      <td>False</td>\n",
       "    </tr>\n",
       "    <tr>\n",
       "      <th>1</th>\n",
       "      <td>✅ Trip Verified |  Check-in Desk rude and dism...</td>\n",
       "      <td>1</td>\n",
       "      <td>26th July 2023</td>\n",
       "      <td>United Kingdom</td>\n",
       "      <td>False</td>\n",
       "    </tr>\n",
       "    <tr>\n",
       "      <th>2</th>\n",
       "      <td>✅ Trip Verified | I chose British Airways espe...</td>\n",
       "      <td>2</td>\n",
       "      <td>25th July 2023</td>\n",
       "      <td>Spain</td>\n",
       "      <td>False</td>\n",
       "    </tr>\n",
       "    <tr>\n",
       "      <th>3</th>\n",
       "      <td>Not Verified | I booked Premium Economy from I...</td>\n",
       "      <td>1</td>\n",
       "      <td>24th July 2023</td>\n",
       "      <td>United Kingdom</td>\n",
       "      <td>False</td>\n",
       "    </tr>\n",
       "    <tr>\n",
       "      <th>4</th>\n",
       "      <td>✅ Trip Verified | A simple story with an unfor...</td>\n",
       "      <td>1</td>\n",
       "      <td>21st July 2023</td>\n",
       "      <td>Germany</td>\n",
       "      <td>False</td>\n",
       "    </tr>\n",
       "  </tbody>\n",
       "</table>\n",
       "</div>"
      ],
      "text/plain": [
       "                                             reviews  \\\n",
       "0  ✅ Trip Verified | An airline that lives in the...   \n",
       "1  ✅ Trip Verified |  Check-in Desk rude and dism...   \n",
       "2  ✅ Trip Verified | I chose British Airways espe...   \n",
       "3  Not Verified | I booked Premium Economy from I...   \n",
       "4  ✅ Trip Verified | A simple story with an unfor...   \n",
       "\n",
       "                           stars            date         country  verified  \n",
       "0  \\n\\t\\t\\t\\t\\t\\t\\t\\t\\t\\t\\t\\t\\t5  26th July 2023           Qatar     False  \n",
       "1                              1  26th July 2023  United Kingdom     False  \n",
       "2                              2  25th July 2023           Spain     False  \n",
       "3                              1  24th July 2023  United Kingdom     False  \n",
       "4                              1  21st July 2023         Germany     False  "
      ]
     },
     "execution_count": 5,
     "metadata": {},
     "output_type": "execute_result"
    }
   ],
   "source": [
    "df.head()"
   ]
  },
  {
   "cell_type": "code",
   "execution_count": 8,
   "id": "5624ba64",
   "metadata": {
    "collapsed": true
   },
   "outputs": [
    {
     "name": "stdout",
     "output_type": "stream",
     "text": [
      "showing info https://raw.githubusercontent.com/nltk/nltk_data/gh-pages/index.xml\n",
      "showing info http://www.nltk.org/nltk_data/\n"
     ]
    },
    {
     "name": "stderr",
     "output_type": "stream",
     "text": [
      "Exception in Tkinter callback\n",
      "Traceback (most recent call last):\n",
      "  File \"C:\\Users\\tania\\anaconda3\\lib\\tkinter\\__init__.py\", line 1892, in __call__\n",
      "    return self.func(*args)\n",
      "  File \"C:\\Users\\tania\\anaconda3\\lib\\site-packages\\nltk\\downloader.py\", line 1782, in _download\n",
      "    return self._download_threaded(*e)\n",
      "  File \"C:\\Users\\tania\\anaconda3\\lib\\site-packages\\nltk\\downloader.py\", line 2068, in _download_threaded\n",
      "    assert self._download_msg_queue == []\n",
      "AssertionError\n",
      "Exception in Tkinter callback\n",
      "Traceback (most recent call last):\n",
      "  File \"C:\\Users\\tania\\anaconda3\\lib\\tkinter\\__init__.py\", line 1892, in __call__\n",
      "    return self.func(*args)\n",
      "  File \"C:\\Users\\tania\\anaconda3\\lib\\site-packages\\nltk\\downloader.py\", line 1782, in _download\n",
      "    return self._download_threaded(*e)\n",
      "  File \"C:\\Users\\tania\\anaconda3\\lib\\site-packages\\nltk\\downloader.py\", line 2068, in _download_threaded\n",
      "    assert self._download_msg_queue == []\n",
      "AssertionError\n"
     ]
    },
    {
     "data": {
      "text/plain": [
       "True"
      ]
     },
     "execution_count": 8,
     "metadata": {},
     "output_type": "execute_result"
    }
   ],
   "source": [
    "import nltk\n",
    "nltk.download()\n",
    "#change the server index to: http://www.nltk.org/nltk_data/"
   ]
  },
  {
   "cell_type": "code",
   "execution_count": 9,
   "id": "c855636f",
   "metadata": {},
   "outputs": [
    {
     "name": "stderr",
     "output_type": "stream",
     "text": [
      "[nltk_data] Downloading package stopwords to\n",
      "[nltk_data]     C:\\Users\\tania\\AppData\\Roaming\\nltk_data...\n",
      "[nltk_data]   Package stopwords is already up-to-date!\n"
     ]
    },
    {
     "data": {
      "text/plain": [
       "True"
      ]
     },
     "execution_count": 9,
     "metadata": {},
     "output_type": "execute_result"
    }
   ],
   "source": [
    "import nltk\n",
    "nltk.download('stopwords')"
   ]
  },
  {
   "cell_type": "code",
   "execution_count": 10,
   "id": "9eb2885f",
   "metadata": {},
   "outputs": [
    {
     "name": "stderr",
     "output_type": "stream",
     "text": [
      "[nltk_data] Downloading package wordnet to\n",
      "[nltk_data]     C:\\Users\\tania\\AppData\\Roaming\\nltk_data...\n",
      "[nltk_data]   Package wordnet is already up-to-date!\n"
     ]
    },
    {
     "data": {
      "text/plain": [
       "True"
      ]
     },
     "execution_count": 10,
     "metadata": {},
     "output_type": "execute_result"
    }
   ],
   "source": [
    "nltk.download('wordnet')"
   ]
  },
  {
   "cell_type": "code",
   "execution_count": 11,
   "id": "6b9ba66c",
   "metadata": {},
   "outputs": [],
   "source": [
    "#Cleaning the reviews column\n",
    "#We will use NLTK library\n",
    "from nltk.stem import WordNetLemmatizer\n",
    "from nltk.corpus import stopwords\n",
    "lemma = WordNetLemmatizer()\n",
    "\n",
    "#The strip() method removes any leading, and trailing whitespaces\n",
    "reviews_data =  df.reviews.str.strip(\"✅ Trip Verified |\")\n",
    "\n",
    "#Create an empty list to collect cleaned data corpus\n",
    "corpus = []\n",
    "\n",
    "#Removing un-necessary words, chars, punctuations and then joining them \n",
    "for rev in reviews_data:\n",
    "    rev = re.sub('[^a-zA-Z]',' ', rev)\n",
    "    rev = rev.lower()\n",
    "    rev = rev.split()\n",
    "    rev = [lemma.lemmatize(word) for word in rev if word not in set(stopwords.words(\"english\"))]\n",
    "    rev = \" \".join(rev)\n",
    "    corpus.append(rev)\n"
   ]
  },
  {
   "cell_type": "code",
   "execution_count": 12,
   "id": "f3f74d5a",
   "metadata": {},
   "outputs": [],
   "source": [
    "#add the corpus to the original framework\n",
    "df['corpus'] = corpus"
   ]
  },
  {
   "cell_type": "code",
   "execution_count": 13,
   "id": "2748f2ef",
   "metadata": {},
   "outputs": [
    {
     "data": {
      "text/html": [
       "<div>\n",
       "<style scoped>\n",
       "    .dataframe tbody tr th:only-of-type {\n",
       "        vertical-align: middle;\n",
       "    }\n",
       "\n",
       "    .dataframe tbody tr th {\n",
       "        vertical-align: top;\n",
       "    }\n",
       "\n",
       "    .dataframe thead th {\n",
       "        text-align: right;\n",
       "    }\n",
       "</style>\n",
       "<table border=\"1\" class=\"dataframe\">\n",
       "  <thead>\n",
       "    <tr style=\"text-align: right;\">\n",
       "      <th></th>\n",
       "      <th>reviews</th>\n",
       "      <th>stars</th>\n",
       "      <th>date</th>\n",
       "      <th>country</th>\n",
       "      <th>verified</th>\n",
       "      <th>corpus</th>\n",
       "    </tr>\n",
       "  </thead>\n",
       "  <tbody>\n",
       "    <tr>\n",
       "      <th>0</th>\n",
       "      <td>✅ Trip Verified | An airline that lives in the...</td>\n",
       "      <td>\\n\\t\\t\\t\\t\\t\\t\\t\\t\\t\\t\\t\\t\\t5</td>\n",
       "      <td>26th July 2023</td>\n",
       "      <td>Qatar</td>\n",
       "      <td>False</td>\n",
       "      <td>airline life past glory heading future crisis ...</td>\n",
       "    </tr>\n",
       "    <tr>\n",
       "      <th>1</th>\n",
       "      <td>✅ Trip Verified |  Check-in Desk rude and dism...</td>\n",
       "      <td>1</td>\n",
       "      <td>26th July 2023</td>\n",
       "      <td>United Kingdom</td>\n",
       "      <td>False</td>\n",
       "      <td>check desk rude dismissive flight late seems n...</td>\n",
       "    </tr>\n",
       "    <tr>\n",
       "      <th>2</th>\n",
       "      <td>✅ Trip Verified | I chose British Airways espe...</td>\n",
       "      <td>2</td>\n",
       "      <td>25th July 2023</td>\n",
       "      <td>Spain</td>\n",
       "      <td>False</td>\n",
       "      <td>chose british airway especially going travel n...</td>\n",
       "    </tr>\n",
       "    <tr>\n",
       "      <th>3</th>\n",
       "      <td>Not Verified | I booked Premium Economy from I...</td>\n",
       "      <td>1</td>\n",
       "      <td>24th July 2023</td>\n",
       "      <td>United Kingdom</td>\n",
       "      <td>False</td>\n",
       "      <td>verified booked premium economy inv lax via lh...</td>\n",
       "    </tr>\n",
       "    <tr>\n",
       "      <th>4</th>\n",
       "      <td>✅ Trip Verified | A simple story with an unfor...</td>\n",
       "      <td>1</td>\n",
       "      <td>21st July 2023</td>\n",
       "      <td>Germany</td>\n",
       "      <td>False</td>\n",
       "      <td>simple story unfortunate outcome really could ...</td>\n",
       "    </tr>\n",
       "  </tbody>\n",
       "</table>\n",
       "</div>"
      ],
      "text/plain": [
       "                                             reviews  \\\n",
       "0  ✅ Trip Verified | An airline that lives in the...   \n",
       "1  ✅ Trip Verified |  Check-in Desk rude and dism...   \n",
       "2  ✅ Trip Verified | I chose British Airways espe...   \n",
       "3  Not Verified | I booked Premium Economy from I...   \n",
       "4  ✅ Trip Verified | A simple story with an unfor...   \n",
       "\n",
       "                           stars            date         country  verified  \\\n",
       "0  \\n\\t\\t\\t\\t\\t\\t\\t\\t\\t\\t\\t\\t\\t5  26th July 2023           Qatar     False   \n",
       "1                              1  26th July 2023  United Kingdom     False   \n",
       "2                              2  25th July 2023           Spain     False   \n",
       "3                              1  24th July 2023  United Kingdom     False   \n",
       "4                              1  21st July 2023         Germany     False   \n",
       "\n",
       "                                              corpus  \n",
       "0  airline life past glory heading future crisis ...  \n",
       "1  check desk rude dismissive flight late seems n...  \n",
       "2  chose british airway especially going travel n...  \n",
       "3  verified booked premium economy inv lax via lh...  \n",
       "4  simple story unfortunate outcome really could ...  "
      ]
     },
     "execution_count": 13,
     "metadata": {},
     "output_type": "execute_result"
    }
   ],
   "source": [
    "df.head()"
   ]
  },
  {
   "cell_type": "markdown",
   "id": "2d0b5657",
   "metadata": {},
   "source": [
    "Formating"
   ]
  },
  {
   "cell_type": "code",
   "execution_count": 14,
   "id": "494b1b52",
   "metadata": {},
   "outputs": [
    {
     "data": {
      "text/plain": [
       "reviews     object\n",
       "stars       object\n",
       "date        object\n",
       "country     object\n",
       "verified      bool\n",
       "corpus      object\n",
       "dtype: object"
      ]
     },
     "execution_count": 14,
     "metadata": {},
     "output_type": "execute_result"
    }
   ],
   "source": [
    "df.dtypes"
   ]
  },
  {
   "cell_type": "code",
   "execution_count": 15,
   "id": "149bbe45",
   "metadata": {},
   "outputs": [],
   "source": [
    "#Convert date to datetime format\n",
    "df.date = pd.to_datetime(df.date)"
   ]
  },
  {
   "cell_type": "code",
   "execution_count": 16,
   "id": "29065068",
   "metadata": {},
   "outputs": [
    {
     "data": {
      "text/plain": [
       "0   2023-07-26\n",
       "1   2023-07-26\n",
       "2   2023-07-25\n",
       "3   2023-07-24\n",
       "4   2023-07-21\n",
       "Name: date, dtype: datetime64[ns]"
      ]
     },
     "execution_count": 16,
     "metadata": {},
     "output_type": "execute_result"
    }
   ],
   "source": [
    "df.date.head()"
   ]
  },
  {
   "cell_type": "markdown",
   "id": "0d19c485",
   "metadata": {},
   "source": [
    "Cleaning Ratings"
   ]
  },
  {
   "cell_type": "code",
   "execution_count": 17,
   "id": "95d69ede",
   "metadata": {},
   "outputs": [
    {
     "data": {
      "text/plain": [
       "array(['\\n\\t\\t\\t\\t\\t\\t\\t\\t\\t\\t\\t\\t\\t5', '1', '2', '4', '8', '9', '3',\n",
       "       '10', '7', '5', '6', 'None'], dtype=object)"
      ]
     },
     "execution_count": 17,
     "metadata": {},
     "output_type": "execute_result"
    }
   ],
   "source": [
    "#Check for unique values of ratings\n",
    "df.stars.unique()"
   ]
  },
  {
   "cell_type": "code",
   "execution_count": 18,
   "id": "6f1aa3bf",
   "metadata": {},
   "outputs": [],
   "source": [
    "#removing the unwanted\n",
    "df.stars = df.stars.str.strip(\"\\n\\t\\t\\t\\t\\t\\t\\t\\t\\t\\t\\t\\t\\t\")"
   ]
  },
  {
   "cell_type": "code",
   "execution_count": 19,
   "id": "e2b4e0a4",
   "metadata": {},
   "outputs": [
    {
     "data": {
      "text/plain": [
       "array(['5', '1', '2', '4', '8', '9', '3', '10', '7', '6', 'None'],\n",
       "      dtype=object)"
      ]
     },
     "execution_count": 19,
     "metadata": {},
     "output_type": "execute_result"
    }
   ],
   "source": [
    "df.stars.unique()"
   ]
  },
  {
   "cell_type": "code",
   "execution_count": 20,
   "id": "f1879b1c",
   "metadata": {},
   "outputs": [
    {
     "data": {
      "text/plain": [
       "1       804\n",
       "2       401\n",
       "3       393\n",
       "8       347\n",
       "10      302\n",
       "7       294\n",
       "9       293\n",
       "5       250\n",
       "4       240\n",
       "6       171\n",
       "None      5\n",
       "Name: stars, dtype: int64"
      ]
     },
     "execution_count": 20,
     "metadata": {},
     "output_type": "execute_result"
    }
   ],
   "source": [
    "df.stars.value_counts()"
   ]
  },
  {
   "cell_type": "code",
   "execution_count": 21,
   "id": "bcc8f180",
   "metadata": {},
   "outputs": [],
   "source": [
    "#droping \"None\" from 5 columns\n",
    "df.drop(df[df.stars==\"None\"].index, axis=0, inplace=True)"
   ]
  },
  {
   "cell_type": "code",
   "execution_count": 22,
   "id": "6b35a319",
   "metadata": {},
   "outputs": [
    {
     "data": {
      "text/plain": [
       "array(['5', '1', '2', '4', '8', '9', '3', '10', '7', '6'], dtype=object)"
      ]
     },
     "execution_count": 22,
     "metadata": {},
     "output_type": "execute_result"
    }
   ],
   "source": [
    "df.stars.unique()"
   ]
  },
  {
   "cell_type": "markdown",
   "id": "65e55b73",
   "metadata": {},
   "source": [
    "Check for NULL value"
   ]
  },
  {
   "cell_type": "code",
   "execution_count": 23,
   "id": "06f6b563",
   "metadata": {},
   "outputs": [
    {
     "data": {
      "text/plain": [
       "reviews  stars  date   country  verified  corpus\n",
       "False    False  False  False    False     False     3493\n",
       "                       True     False     False        2\n",
       "dtype: int64"
      ]
     },
     "execution_count": 23,
     "metadata": {},
     "output_type": "execute_result"
    }
   ],
   "source": [
    "df.isnull().value_counts()"
   ]
  },
  {
   "cell_type": "code",
   "execution_count": 24,
   "id": "f4471f01",
   "metadata": {},
   "outputs": [],
   "source": [
    "#2 rows have null values in country column\n",
    "#Remove those\n",
    "df.drop(df[df.country.isnull()==True].index, axis=0, inplace=True)"
   ]
  },
  {
   "cell_type": "code",
   "execution_count": 25,
   "id": "b2199598",
   "metadata": {},
   "outputs": [
    {
     "data": {
      "text/plain": [
       "reviews  stars  date   country  verified  corpus\n",
       "False    False  False  False    False     False     3493\n",
       "dtype: int64"
      ]
     },
     "execution_count": 25,
     "metadata": {},
     "output_type": "execute_result"
    }
   ],
   "source": [
    "df.isnull().value_counts()"
   ]
  },
  {
   "cell_type": "code",
   "execution_count": 26,
   "id": "73ba0a14",
   "metadata": {},
   "outputs": [
    {
     "data": {
      "text/plain": [
       "(3493, 6)"
      ]
     },
     "execution_count": 26,
     "metadata": {},
     "output_type": "execute_result"
    }
   ],
   "source": [
    "df.shape"
   ]
  },
  {
   "cell_type": "code",
   "execution_count": 27,
   "id": "3afda11d",
   "metadata": {},
   "outputs": [
    {
     "data": {
      "text/html": [
       "<div>\n",
       "<style scoped>\n",
       "    .dataframe tbody tr th:only-of-type {\n",
       "        vertical-align: middle;\n",
       "    }\n",
       "\n",
       "    .dataframe tbody tr th {\n",
       "        vertical-align: top;\n",
       "    }\n",
       "\n",
       "    .dataframe thead th {\n",
       "        text-align: right;\n",
       "    }\n",
       "</style>\n",
       "<table border=\"1\" class=\"dataframe\">\n",
       "  <thead>\n",
       "    <tr style=\"text-align: right;\">\n",
       "      <th></th>\n",
       "      <th>reviews</th>\n",
       "      <th>stars</th>\n",
       "      <th>date</th>\n",
       "      <th>country</th>\n",
       "      <th>verified</th>\n",
       "      <th>corpus</th>\n",
       "    </tr>\n",
       "  </thead>\n",
       "  <tbody>\n",
       "    <tr>\n",
       "      <th>0</th>\n",
       "      <td>✅ Trip Verified | An airline that lives in the...</td>\n",
       "      <td>5</td>\n",
       "      <td>2023-07-26</td>\n",
       "      <td>Qatar</td>\n",
       "      <td>False</td>\n",
       "      <td>airline life past glory heading future crisis ...</td>\n",
       "    </tr>\n",
       "    <tr>\n",
       "      <th>1</th>\n",
       "      <td>✅ Trip Verified |  Check-in Desk rude and dism...</td>\n",
       "      <td>1</td>\n",
       "      <td>2023-07-26</td>\n",
       "      <td>United Kingdom</td>\n",
       "      <td>False</td>\n",
       "      <td>check desk rude dismissive flight late seems n...</td>\n",
       "    </tr>\n",
       "    <tr>\n",
       "      <th>2</th>\n",
       "      <td>✅ Trip Verified | I chose British Airways espe...</td>\n",
       "      <td>2</td>\n",
       "      <td>2023-07-25</td>\n",
       "      <td>Spain</td>\n",
       "      <td>False</td>\n",
       "      <td>chose british airway especially going travel n...</td>\n",
       "    </tr>\n",
       "    <tr>\n",
       "      <th>3</th>\n",
       "      <td>Not Verified | I booked Premium Economy from I...</td>\n",
       "      <td>1</td>\n",
       "      <td>2023-07-24</td>\n",
       "      <td>United Kingdom</td>\n",
       "      <td>False</td>\n",
       "      <td>verified booked premium economy inv lax via lh...</td>\n",
       "    </tr>\n",
       "    <tr>\n",
       "      <th>4</th>\n",
       "      <td>✅ Trip Verified | A simple story with an unfor...</td>\n",
       "      <td>1</td>\n",
       "      <td>2023-07-21</td>\n",
       "      <td>Germany</td>\n",
       "      <td>False</td>\n",
       "      <td>simple story unfortunate outcome really could ...</td>\n",
       "    </tr>\n",
       "    <tr>\n",
       "      <th>...</th>\n",
       "      <td>...</td>\n",
       "      <td>...</td>\n",
       "      <td>...</td>\n",
       "      <td>...</td>\n",
       "      <td>...</td>\n",
       "      <td>...</td>\n",
       "    </tr>\n",
       "    <tr>\n",
       "      <th>3488</th>\n",
       "      <td>We travelled to and from Europe in business cl...</td>\n",
       "      <td>8</td>\n",
       "      <td>2014-06-17</td>\n",
       "      <td>Canada</td>\n",
       "      <td>False</td>\n",
       "      <td>travelled europe business class two week medit...</td>\n",
       "    </tr>\n",
       "    <tr>\n",
       "      <th>3489</th>\n",
       "      <td>BKK to LHR in club world 777-200 seat 3E and 3...</td>\n",
       "      <td>6</td>\n",
       "      <td>2014-06-16</td>\n",
       "      <td>United Kingdom</td>\n",
       "      <td>False</td>\n",
       "      <td>bkk lhr club world seat e f june th fly ba lot...</td>\n",
       "    </tr>\n",
       "    <tr>\n",
       "      <th>3490</th>\n",
       "      <td>Recently travelled LHR to San Francisco and re...</td>\n",
       "      <td>10</td>\n",
       "      <td>2014-06-16</td>\n",
       "      <td>United Kingdom</td>\n",
       "      <td>False</td>\n",
       "      <td>recently travelled lhr san francisco returned ...</td>\n",
       "    </tr>\n",
       "    <tr>\n",
       "      <th>3491</th>\n",
       "      <td>LHR-Belfast-LHR over a weekend. Ground staff a...</td>\n",
       "      <td>1</td>\n",
       "      <td>2014-06-16</td>\n",
       "      <td>United Kingdom</td>\n",
       "      <td>False</td>\n",
       "      <td>lhr belfast lhr weekend ground staff flight at...</td>\n",
       "    </tr>\n",
       "    <tr>\n",
       "      <th>3492</th>\n",
       "      <td>I flew LHR-YVR outwards 20th May 2014 on 747. ...</td>\n",
       "      <td>8</td>\n",
       "      <td>2014-06-16</td>\n",
       "      <td>United Kingdom</td>\n",
       "      <td>False</td>\n",
       "      <td>flew lhr yvr outwards th may cabin newly fitte...</td>\n",
       "    </tr>\n",
       "  </tbody>\n",
       "</table>\n",
       "<p>3493 rows × 6 columns</p>\n",
       "</div>"
      ],
      "text/plain": [
       "                                                reviews stars       date  \\\n",
       "0     ✅ Trip Verified | An airline that lives in the...     5 2023-07-26   \n",
       "1     ✅ Trip Verified |  Check-in Desk rude and dism...     1 2023-07-26   \n",
       "2     ✅ Trip Verified | I chose British Airways espe...     2 2023-07-25   \n",
       "3     Not Verified | I booked Premium Economy from I...     1 2023-07-24   \n",
       "4     ✅ Trip Verified | A simple story with an unfor...     1 2023-07-21   \n",
       "...                                                 ...   ...        ...   \n",
       "3488  We travelled to and from Europe in business cl...     8 2014-06-17   \n",
       "3489  BKK to LHR in club world 777-200 seat 3E and 3...     6 2014-06-16   \n",
       "3490  Recently travelled LHR to San Francisco and re...    10 2014-06-16   \n",
       "3491  LHR-Belfast-LHR over a weekend. Ground staff a...     1 2014-06-16   \n",
       "3492  I flew LHR-YVR outwards 20th May 2014 on 747. ...     8 2014-06-16   \n",
       "\n",
       "             country  verified  \\\n",
       "0              Qatar     False   \n",
       "1     United Kingdom     False   \n",
       "2              Spain     False   \n",
       "3     United Kingdom     False   \n",
       "4            Germany     False   \n",
       "...              ...       ...   \n",
       "3488          Canada     False   \n",
       "3489  United Kingdom     False   \n",
       "3490  United Kingdom     False   \n",
       "3491  United Kingdom     False   \n",
       "3492  United Kingdom     False   \n",
       "\n",
       "                                                 corpus  \n",
       "0     airline life past glory heading future crisis ...  \n",
       "1     check desk rude dismissive flight late seems n...  \n",
       "2     chose british airway especially going travel n...  \n",
       "3     verified booked premium economy inv lax via lh...  \n",
       "4     simple story unfortunate outcome really could ...  \n",
       "...                                                 ...  \n",
       "3488  travelled europe business class two week medit...  \n",
       "3489  bkk lhr club world seat e f june th fly ba lot...  \n",
       "3490  recently travelled lhr san francisco returned ...  \n",
       "3491  lhr belfast lhr weekend ground staff flight at...  \n",
       "3492  flew lhr yvr outwards th may cabin newly fitte...  \n",
       "\n",
       "[3493 rows x 6 columns]"
      ]
     },
     "execution_count": 27,
     "metadata": {},
     "output_type": "execute_result"
    }
   ],
   "source": [
    "#resetting the index column\n",
    "df.reset_index(drop=True)"
   ]
  },
  {
   "cell_type": "code",
   "execution_count": 28,
   "id": "52020817",
   "metadata": {},
   "outputs": [],
   "source": [
    "#Export the clean dataset\n",
    "df.to_csv(cwd + \"/Cleaned_BA_Dataset.csv\")"
   ]
  }
 ],
 "metadata": {
  "kernelspec": {
   "display_name": "Python 3 (ipykernel)",
   "language": "python",
   "name": "python3"
  },
  "language_info": {
   "codemirror_mode": {
    "name": "ipython",
    "version": 3
   },
   "file_extension": ".py",
   "mimetype": "text/x-python",
   "name": "python",
   "nbconvert_exporter": "python",
   "pygments_lexer": "ipython3",
   "version": "3.8.12"
  }
 },
 "nbformat": 4,
 "nbformat_minor": 5
}

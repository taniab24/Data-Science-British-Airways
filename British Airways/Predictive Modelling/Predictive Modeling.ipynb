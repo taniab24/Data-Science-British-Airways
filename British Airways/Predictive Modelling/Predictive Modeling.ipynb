{
 "cells": [
  {
   "cell_type": "code",
   "execution_count": 18,
   "id": "9b05d84c",
   "metadata": {},
   "outputs": [],
   "source": [
    "# imports\n",
    "\n",
    "import pandas as pd\n",
    "import numpy as np\n",
    "\n",
    "import os\n",
    "\n",
    "import matplotlib.pyplot as plt\n",
    "import seaborn as sns\n",
    "plt.rcParams.update({'font.size': 14})"
   ]
  },
  {
   "cell_type": "code",
   "execution_count": 19,
   "id": "07692046",
   "metadata": {},
   "outputs": [],
   "source": [
    "# get current working directory\n",
    "cwd = os.getcwd()\n",
    "\n",
    "df = pd.read_csv(cwd + \"/filtered_customer_booking.csv\", index_col=0)"
   ]
  },
  {
   "cell_type": "code",
   "execution_count": 20,
   "id": "524865bd",
   "metadata": {},
   "outputs": [],
   "source": [
    "\n",
    "df = df.reset_index(drop=True)"
   ]
  },
  {
   "cell_type": "code",
   "execution_count": 21,
   "id": "35a750e4",
   "metadata": {},
   "outputs": [
    {
     "data": {
      "text/html": [
       "<div>\n",
       "<style scoped>\n",
       "    .dataframe tbody tr th:only-of-type {\n",
       "        vertical-align: middle;\n",
       "    }\n",
       "\n",
       "    .dataframe tbody tr th {\n",
       "        vertical-align: top;\n",
       "    }\n",
       "\n",
       "    .dataframe thead th {\n",
       "        text-align: right;\n",
       "    }\n",
       "</style>\n",
       "<table border=\"1\" class=\"dataframe\">\n",
       "  <thead>\n",
       "    <tr style=\"text-align: right;\">\n",
       "      <th></th>\n",
       "      <th>num_passengers</th>\n",
       "      <th>sales_channel</th>\n",
       "      <th>trip_type</th>\n",
       "      <th>purchase_lead</th>\n",
       "      <th>length_of_stay</th>\n",
       "      <th>flight_hour</th>\n",
       "      <th>flight_day</th>\n",
       "      <th>route</th>\n",
       "      <th>booking_origin</th>\n",
       "      <th>wants_extra_baggage</th>\n",
       "      <th>wants_preferred_seat</th>\n",
       "      <th>wants_in_flight_meals</th>\n",
       "      <th>flight_duration</th>\n",
       "      <th>booking_complete</th>\n",
       "    </tr>\n",
       "  </thead>\n",
       "  <tbody>\n",
       "    <tr>\n",
       "      <th>0</th>\n",
       "      <td>2</td>\n",
       "      <td>Internet</td>\n",
       "      <td>RoundTrip</td>\n",
       "      <td>262</td>\n",
       "      <td>19</td>\n",
       "      <td>7</td>\n",
       "      <td>6</td>\n",
       "      <td>AKLDEL</td>\n",
       "      <td>New Zealand</td>\n",
       "      <td>1</td>\n",
       "      <td>0</td>\n",
       "      <td>0</td>\n",
       "      <td>5.52</td>\n",
       "      <td>0</td>\n",
       "    </tr>\n",
       "    <tr>\n",
       "      <th>1</th>\n",
       "      <td>1</td>\n",
       "      <td>Internet</td>\n",
       "      <td>RoundTrip</td>\n",
       "      <td>112</td>\n",
       "      <td>20</td>\n",
       "      <td>3</td>\n",
       "      <td>6</td>\n",
       "      <td>AKLDEL</td>\n",
       "      <td>New Zealand</td>\n",
       "      <td>0</td>\n",
       "      <td>0</td>\n",
       "      <td>0</td>\n",
       "      <td>5.52</td>\n",
       "      <td>0</td>\n",
       "    </tr>\n",
       "    <tr>\n",
       "      <th>2</th>\n",
       "      <td>2</td>\n",
       "      <td>Internet</td>\n",
       "      <td>RoundTrip</td>\n",
       "      <td>243</td>\n",
       "      <td>22</td>\n",
       "      <td>17</td>\n",
       "      <td>3</td>\n",
       "      <td>AKLDEL</td>\n",
       "      <td>India</td>\n",
       "      <td>1</td>\n",
       "      <td>1</td>\n",
       "      <td>0</td>\n",
       "      <td>5.52</td>\n",
       "      <td>0</td>\n",
       "    </tr>\n",
       "    <tr>\n",
       "      <th>3</th>\n",
       "      <td>1</td>\n",
       "      <td>Internet</td>\n",
       "      <td>RoundTrip</td>\n",
       "      <td>96</td>\n",
       "      <td>31</td>\n",
       "      <td>4</td>\n",
       "      <td>6</td>\n",
       "      <td>AKLDEL</td>\n",
       "      <td>New Zealand</td>\n",
       "      <td>0</td>\n",
       "      <td>0</td>\n",
       "      <td>1</td>\n",
       "      <td>5.52</td>\n",
       "      <td>0</td>\n",
       "    </tr>\n",
       "    <tr>\n",
       "      <th>4</th>\n",
       "      <td>2</td>\n",
       "      <td>Internet</td>\n",
       "      <td>RoundTrip</td>\n",
       "      <td>68</td>\n",
       "      <td>22</td>\n",
       "      <td>15</td>\n",
       "      <td>3</td>\n",
       "      <td>AKLDEL</td>\n",
       "      <td>India</td>\n",
       "      <td>1</td>\n",
       "      <td>0</td>\n",
       "      <td>1</td>\n",
       "      <td>5.52</td>\n",
       "      <td>0</td>\n",
       "    </tr>\n",
       "  </tbody>\n",
       "</table>\n",
       "</div>"
      ],
      "text/plain": [
       "   num_passengers sales_channel  trip_type  purchase_lead  length_of_stay  \\\n",
       "0               2      Internet  RoundTrip            262              19   \n",
       "1               1      Internet  RoundTrip            112              20   \n",
       "2               2      Internet  RoundTrip            243              22   \n",
       "3               1      Internet  RoundTrip             96              31   \n",
       "4               2      Internet  RoundTrip             68              22   \n",
       "\n",
       "   flight_hour  flight_day   route booking_origin  wants_extra_baggage  \\\n",
       "0            7           6  AKLDEL    New Zealand                    1   \n",
       "1            3           6  AKLDEL    New Zealand                    0   \n",
       "2           17           3  AKLDEL          India                    1   \n",
       "3            4           6  AKLDEL    New Zealand                    0   \n",
       "4           15           3  AKLDEL          India                    1   \n",
       "\n",
       "   wants_preferred_seat  wants_in_flight_meals  flight_duration  \\\n",
       "0                     0                      0             5.52   \n",
       "1                     0                      0             5.52   \n",
       "2                     1                      0             5.52   \n",
       "3                     0                      1             5.52   \n",
       "4                     0                      1             5.52   \n",
       "\n",
       "   booking_complete  \n",
       "0                 0  \n",
       "1                 0  \n",
       "2                 0  \n",
       "3                 0  \n",
       "4                 0  "
      ]
     },
     "execution_count": 21,
     "metadata": {},
     "output_type": "execute_result"
    }
   ],
   "source": [
    "df.head()"
   ]
  },
  {
   "cell_type": "code",
   "execution_count": 22,
   "id": "890fabcf",
   "metadata": {},
   "outputs": [
    {
     "data": {
      "text/plain": [
       "(49982, 14)"
      ]
     },
     "execution_count": 22,
     "metadata": {},
     "output_type": "execute_result"
    }
   ],
   "source": [
    "df.shape"
   ]
  },
  {
   "cell_type": "code",
   "execution_count": 23,
   "id": "1022fcbf",
   "metadata": {},
   "outputs": [],
   "source": [
    "df_final = df"
   ]
  },
  {
   "cell_type": "code",
   "execution_count": 24,
   "id": "3fca1392",
   "metadata": {},
   "outputs": [],
   "source": [
    "#we need to apply One hot encoding to categorical values\n",
    "from sklearn.preprocessing import OneHotEncoder\n",
    "\n",
    "\n",
    "#create instance of one hot encoder\n",
    "encoder = OneHotEncoder(handle_unknown='ignore')\n",
    "\n",
    "#one hot encode Sales Channel\n",
    "encoder_df = pd.DataFrame(encoder.fit_transform(df[[\"sales_channel\"]]).toarray())\n",
    "encoder_df = encoder_df.rename(columns={0:'Internet', 1:'Mobile'})\n",
    "df_final = df_final.join(encoder_df)\n",
    "\n",
    "#one hot encode trip type\n",
    "encoder_df = pd.DataFrame(encoder.fit_transform(df[[\"trip_type\"]]).toarray())\n",
    "encoder_df = encoder_df.rename(columns={0:'RoundTRip', 1:'OneWayTrip',2:'CircleTrip'})\n",
    "df_final = df_final.join(encoder_df)"
   ]
  },
  {
   "cell_type": "code",
   "execution_count": 25,
   "id": "177a1b9f",
   "metadata": {},
   "outputs": [
    {
     "data": {
      "text/plain": [
       "104"
      ]
     },
     "execution_count": 25,
     "metadata": {},
     "output_type": "execute_result"
    }
   ],
   "source": [
    "df_final.booking_origin.nunique()"
   ]
  },
  {
   "cell_type": "code",
   "execution_count": 26,
   "id": "2c674018",
   "metadata": {},
   "outputs": [],
   "source": [
    "#drop categorical columns now\n",
    "df_final.drop(['sales_channel', 'trip_type','booking_origin', 'route'], axis=1, inplace = True)"
   ]
  },
  {
   "cell_type": "code",
   "execution_count": 27,
   "id": "7bceea49",
   "metadata": {},
   "outputs": [],
   "source": [
    "#store the label for supervised learning\n",
    "label = df['booking_complete']"
   ]
  },
  {
   "cell_type": "code",
   "execution_count": 28,
   "id": "0c6fdc91",
   "metadata": {},
   "outputs": [],
   "source": [
    "df_final = df_final.drop('booking_complete', axis=1)"
   ]
  },
  {
   "cell_type": "code",
   "execution_count": 29,
   "id": "f9d836b1",
   "metadata": {},
   "outputs": [
    {
     "data": {
      "text/html": [
       "<div>\n",
       "<style scoped>\n",
       "    .dataframe tbody tr th:only-of-type {\n",
       "        vertical-align: middle;\n",
       "    }\n",
       "\n",
       "    .dataframe tbody tr th {\n",
       "        vertical-align: top;\n",
       "    }\n",
       "\n",
       "    .dataframe thead th {\n",
       "        text-align: right;\n",
       "    }\n",
       "</style>\n",
       "<table border=\"1\" class=\"dataframe\">\n",
       "  <thead>\n",
       "    <tr style=\"text-align: right;\">\n",
       "      <th></th>\n",
       "      <th>num_passengers</th>\n",
       "      <th>purchase_lead</th>\n",
       "      <th>length_of_stay</th>\n",
       "      <th>flight_hour</th>\n",
       "      <th>flight_day</th>\n",
       "      <th>wants_extra_baggage</th>\n",
       "      <th>wants_preferred_seat</th>\n",
       "      <th>wants_in_flight_meals</th>\n",
       "      <th>flight_duration</th>\n",
       "      <th>Internet</th>\n",
       "      <th>Mobile</th>\n",
       "      <th>RoundTRip</th>\n",
       "      <th>OneWayTrip</th>\n",
       "      <th>CircleTrip</th>\n",
       "    </tr>\n",
       "  </thead>\n",
       "  <tbody>\n",
       "    <tr>\n",
       "      <th>0</th>\n",
       "      <td>2</td>\n",
       "      <td>262</td>\n",
       "      <td>19</td>\n",
       "      <td>7</td>\n",
       "      <td>6</td>\n",
       "      <td>1</td>\n",
       "      <td>0</td>\n",
       "      <td>0</td>\n",
       "      <td>5.52</td>\n",
       "      <td>1.0</td>\n",
       "      <td>0.0</td>\n",
       "      <td>0.0</td>\n",
       "      <td>0.0</td>\n",
       "      <td>1.0</td>\n",
       "    </tr>\n",
       "    <tr>\n",
       "      <th>1</th>\n",
       "      <td>1</td>\n",
       "      <td>112</td>\n",
       "      <td>20</td>\n",
       "      <td>3</td>\n",
       "      <td>6</td>\n",
       "      <td>0</td>\n",
       "      <td>0</td>\n",
       "      <td>0</td>\n",
       "      <td>5.52</td>\n",
       "      <td>1.0</td>\n",
       "      <td>0.0</td>\n",
       "      <td>0.0</td>\n",
       "      <td>0.0</td>\n",
       "      <td>1.0</td>\n",
       "    </tr>\n",
       "    <tr>\n",
       "      <th>2</th>\n",
       "      <td>2</td>\n",
       "      <td>243</td>\n",
       "      <td>22</td>\n",
       "      <td>17</td>\n",
       "      <td>3</td>\n",
       "      <td>1</td>\n",
       "      <td>1</td>\n",
       "      <td>0</td>\n",
       "      <td>5.52</td>\n",
       "      <td>1.0</td>\n",
       "      <td>0.0</td>\n",
       "      <td>0.0</td>\n",
       "      <td>0.0</td>\n",
       "      <td>1.0</td>\n",
       "    </tr>\n",
       "    <tr>\n",
       "      <th>3</th>\n",
       "      <td>1</td>\n",
       "      <td>96</td>\n",
       "      <td>31</td>\n",
       "      <td>4</td>\n",
       "      <td>6</td>\n",
       "      <td>0</td>\n",
       "      <td>0</td>\n",
       "      <td>1</td>\n",
       "      <td>5.52</td>\n",
       "      <td>1.0</td>\n",
       "      <td>0.0</td>\n",
       "      <td>0.0</td>\n",
       "      <td>0.0</td>\n",
       "      <td>1.0</td>\n",
       "    </tr>\n",
       "    <tr>\n",
       "      <th>4</th>\n",
       "      <td>2</td>\n",
       "      <td>68</td>\n",
       "      <td>22</td>\n",
       "      <td>15</td>\n",
       "      <td>3</td>\n",
       "      <td>1</td>\n",
       "      <td>0</td>\n",
       "      <td>1</td>\n",
       "      <td>5.52</td>\n",
       "      <td>1.0</td>\n",
       "      <td>0.0</td>\n",
       "      <td>0.0</td>\n",
       "      <td>0.0</td>\n",
       "      <td>1.0</td>\n",
       "    </tr>\n",
       "  </tbody>\n",
       "</table>\n",
       "</div>"
      ],
      "text/plain": [
       "   num_passengers  purchase_lead  length_of_stay  flight_hour  flight_day  \\\n",
       "0               2            262              19            7           6   \n",
       "1               1            112              20            3           6   \n",
       "2               2            243              22           17           3   \n",
       "3               1             96              31            4           6   \n",
       "4               2             68              22           15           3   \n",
       "\n",
       "   wants_extra_baggage  wants_preferred_seat  wants_in_flight_meals  \\\n",
       "0                    1                     0                      0   \n",
       "1                    0                     0                      0   \n",
       "2                    1                     1                      0   \n",
       "3                    0                     0                      1   \n",
       "4                    1                     0                      1   \n",
       "\n",
       "   flight_duration  Internet  Mobile  RoundTRip  OneWayTrip  CircleTrip  \n",
       "0             5.52       1.0     0.0        0.0         0.0         1.0  \n",
       "1             5.52       1.0     0.0        0.0         0.0         1.0  \n",
       "2             5.52       1.0     0.0        0.0         0.0         1.0  \n",
       "3             5.52       1.0     0.0        0.0         0.0         1.0  \n",
       "4             5.52       1.0     0.0        0.0         0.0         1.0  "
      ]
     },
     "execution_count": 29,
     "metadata": {},
     "output_type": "execute_result"
    }
   ],
   "source": [
    "df_final.head()"
   ]
  },
  {
   "cell_type": "code",
   "execution_count": 30,
   "id": "f8de28e4",
   "metadata": {},
   "outputs": [
    {
     "data": {
      "text/plain": [
       "(49982, 14)"
      ]
     },
     "execution_count": 30,
     "metadata": {},
     "output_type": "execute_result"
    }
   ],
   "source": [
    "df_final.shape"
   ]
  },
  {
   "cell_type": "markdown",
   "id": "dbe08ca5",
   "metadata": {},
   "source": [
    "Normalizaing the values"
   ]
  },
  {
   "cell_type": "code",
   "execution_count": 31,
   "id": "ef7ef8b4",
   "metadata": {},
   "outputs": [],
   "source": [
    "from sklearn.preprocessing import StandardScaler\n",
    "\n",
    "#create a standard scaler object\n",
    "scaler = StandardScaler()\n",
    "\n",
    "#fit and transform the data\n",
    "scaled_df = scaler.fit_transform(df_final)"
   ]
  },
  {
   "cell_type": "code",
   "execution_count": 32,
   "id": "3749587e",
   "metadata": {},
   "outputs": [],
   "source": [
    "#create a dataframe of scaled data\n",
    "scaled_df = pd.DataFrame(scaled_df, columns = df_final.columns)"
   ]
  },
  {
   "cell_type": "code",
   "execution_count": 33,
   "id": "e66d6991",
   "metadata": {},
   "outputs": [],
   "source": [
    "# add the labels back to the dataframe\n",
    "scaled_df['label']  = label"
   ]
  },
  {
   "cell_type": "code",
   "execution_count": 34,
   "id": "dbaab239",
   "metadata": {},
   "outputs": [
    {
     "data": {
      "text/html": [
       "<div>\n",
       "<style scoped>\n",
       "    .dataframe tbody tr th:only-of-type {\n",
       "        vertical-align: middle;\n",
       "    }\n",
       "\n",
       "    .dataframe tbody tr th {\n",
       "        vertical-align: top;\n",
       "    }\n",
       "\n",
       "    .dataframe thead th {\n",
       "        text-align: right;\n",
       "    }\n",
       "</style>\n",
       "<table border=\"1\" class=\"dataframe\">\n",
       "  <thead>\n",
       "    <tr style=\"text-align: right;\">\n",
       "      <th></th>\n",
       "      <th>num_passengers</th>\n",
       "      <th>purchase_lead</th>\n",
       "      <th>length_of_stay</th>\n",
       "      <th>flight_hour</th>\n",
       "      <th>flight_day</th>\n",
       "      <th>wants_extra_baggage</th>\n",
       "      <th>wants_preferred_seat</th>\n",
       "      <th>wants_in_flight_meals</th>\n",
       "      <th>flight_duration</th>\n",
       "      <th>Internet</th>\n",
       "      <th>Mobile</th>\n",
       "      <th>RoundTRip</th>\n",
       "      <th>OneWayTrip</th>\n",
       "      <th>CircleTrip</th>\n",
       "      <th>label</th>\n",
       "    </tr>\n",
       "  </thead>\n",
       "  <tbody>\n",
       "    <tr>\n",
       "      <th>0</th>\n",
       "      <td>0.400769</td>\n",
       "      <td>1.971093</td>\n",
       "      <td>-0.119401</td>\n",
       "      <td>-0.381588</td>\n",
       "      <td>1.096876</td>\n",
       "      <td>0.703587</td>\n",
       "      <td>-0.650054</td>\n",
       "      <td>-0.863557</td>\n",
       "      <td>-1.174049</td>\n",
       "      <td>0.355786</td>\n",
       "      <td>-0.355786</td>\n",
       "      <td>-0.048231</td>\n",
       "      <td>-0.088336</td>\n",
       "      <td>0.100826</td>\n",
       "      <td>0</td>\n",
       "    </tr>\n",
       "    <tr>\n",
       "      <th>1</th>\n",
       "      <td>-0.579424</td>\n",
       "      <td>0.302987</td>\n",
       "      <td>-0.089895</td>\n",
       "      <td>-1.120618</td>\n",
       "      <td>1.096876</td>\n",
       "      <td>-1.421288</td>\n",
       "      <td>-0.650054</td>\n",
       "      <td>-0.863557</td>\n",
       "      <td>-1.174049</td>\n",
       "      <td>0.355786</td>\n",
       "      <td>-0.355786</td>\n",
       "      <td>-0.048231</td>\n",
       "      <td>-0.088336</td>\n",
       "      <td>0.100826</td>\n",
       "      <td>0</td>\n",
       "    </tr>\n",
       "    <tr>\n",
       "      <th>2</th>\n",
       "      <td>0.400769</td>\n",
       "      <td>1.759799</td>\n",
       "      <td>-0.030885</td>\n",
       "      <td>1.465988</td>\n",
       "      <td>-0.408618</td>\n",
       "      <td>0.703587</td>\n",
       "      <td>1.538334</td>\n",
       "      <td>-0.863557</td>\n",
       "      <td>-1.174049</td>\n",
       "      <td>0.355786</td>\n",
       "      <td>-0.355786</td>\n",
       "      <td>-0.048231</td>\n",
       "      <td>-0.088336</td>\n",
       "      <td>0.100826</td>\n",
       "      <td>0</td>\n",
       "    </tr>\n",
       "    <tr>\n",
       "      <th>3</th>\n",
       "      <td>-0.579424</td>\n",
       "      <td>0.125056</td>\n",
       "      <td>0.234662</td>\n",
       "      <td>-0.935861</td>\n",
       "      <td>1.096876</td>\n",
       "      <td>-1.421288</td>\n",
       "      <td>-0.650054</td>\n",
       "      <td>1.158002</td>\n",
       "      <td>-1.174049</td>\n",
       "      <td>0.355786</td>\n",
       "      <td>-0.355786</td>\n",
       "      <td>-0.048231</td>\n",
       "      <td>-0.088336</td>\n",
       "      <td>0.100826</td>\n",
       "      <td>0</td>\n",
       "    </tr>\n",
       "    <tr>\n",
       "      <th>4</th>\n",
       "      <td>0.400769</td>\n",
       "      <td>-0.186323</td>\n",
       "      <td>-0.030885</td>\n",
       "      <td>1.096473</td>\n",
       "      <td>-0.408618</td>\n",
       "      <td>0.703587</td>\n",
       "      <td>-0.650054</td>\n",
       "      <td>1.158002</td>\n",
       "      <td>-1.174049</td>\n",
       "      <td>0.355786</td>\n",
       "      <td>-0.355786</td>\n",
       "      <td>-0.048231</td>\n",
       "      <td>-0.088336</td>\n",
       "      <td>0.100826</td>\n",
       "      <td>0</td>\n",
       "    </tr>\n",
       "  </tbody>\n",
       "</table>\n",
       "</div>"
      ],
      "text/plain": [
       "   num_passengers  purchase_lead  length_of_stay  flight_hour  flight_day  \\\n",
       "0        0.400769       1.971093       -0.119401    -0.381588    1.096876   \n",
       "1       -0.579424       0.302987       -0.089895    -1.120618    1.096876   \n",
       "2        0.400769       1.759799       -0.030885     1.465988   -0.408618   \n",
       "3       -0.579424       0.125056        0.234662    -0.935861    1.096876   \n",
       "4        0.400769      -0.186323       -0.030885     1.096473   -0.408618   \n",
       "\n",
       "   wants_extra_baggage  wants_preferred_seat  wants_in_flight_meals  \\\n",
       "0             0.703587             -0.650054              -0.863557   \n",
       "1            -1.421288             -0.650054              -0.863557   \n",
       "2             0.703587              1.538334              -0.863557   \n",
       "3            -1.421288             -0.650054               1.158002   \n",
       "4             0.703587             -0.650054               1.158002   \n",
       "\n",
       "   flight_duration  Internet    Mobile  RoundTRip  OneWayTrip  CircleTrip  \\\n",
       "0        -1.174049  0.355786 -0.355786  -0.048231   -0.088336    0.100826   \n",
       "1        -1.174049  0.355786 -0.355786  -0.048231   -0.088336    0.100826   \n",
       "2        -1.174049  0.355786 -0.355786  -0.048231   -0.088336    0.100826   \n",
       "3        -1.174049  0.355786 -0.355786  -0.048231   -0.088336    0.100826   \n",
       "4        -1.174049  0.355786 -0.355786  -0.048231   -0.088336    0.100826   \n",
       "\n",
       "   label  \n",
       "0      0  \n",
       "1      0  \n",
       "2      0  \n",
       "3      0  \n",
       "4      0  "
      ]
     },
     "execution_count": 34,
     "metadata": {},
     "output_type": "execute_result"
    }
   ],
   "source": [
    "scaled_df.head()"
   ]
  },
  {
   "cell_type": "markdown",
   "id": "8f6e315f",
   "metadata": {},
   "source": [
    "Correlation matrix"
   ]
  },
  {
   "cell_type": "code",
   "execution_count": 35,
   "id": "6c029469",
   "metadata": {},
   "outputs": [
    {
     "data": {
      "text/plain": [
       "<AxesSubplot:>"
      ]
     },
     "execution_count": 35,
     "metadata": {},
     "output_type": "execute_result"
    },
    {
     "data": {
      "image/png": "[encoded data removed]",
      "text/plain": [
       "<Figure size 720x504 with 2 Axes>"
      ]
     },
     "metadata": {
      "needs_background": "light"
     },
     "output_type": "display_data"
    }
   ],
   "source": [
    "corr = scaled_df.corr()\n",
    "\n",
    "plt.figure(figsize=(10,7))\n",
    "\n",
    "#plot the heatmap\n",
    "sns.heatmap(corr)"
   ]
  },
  {
   "cell_type": "markdown",
   "id": "4dcf452b",
   "metadata": {},
   "source": [
    "Splitting Train and Test Data"
   ]
  },
  {
   "cell_type": "code",
   "execution_count": 36,
   "id": "08c9b776",
   "metadata": {},
   "outputs": [],
   "source": [
    "from sklearn.model_selection import train_test_split\n",
    "\n",
    "X = scaled_df.iloc[:,:-1]\n",
    "y = scaled_df['label']\n",
    "\n",
    "X_train, X_test, y_train, y_test = train_test_split(X.to_numpy(), y.to_numpy(), test_size=0.20, random_state=42)"
   ]
  },
  {
   "cell_type": "code",
   "execution_count": 37,
   "id": "64b71a11",
   "metadata": {},
   "outputs": [],
   "source": [
    "from sklearn.ensemble import RandomForestClassifier\n",
    "from sklearn.linear_model import LogisticRegression\n",
    "from sklearn.metrics import accuracy_score\n",
    "from sklearn.metrics import f1_score\n",
    "from sklearn.metrics import precision_score\n",
    "from sklearn.metrics import recall_score\n",
    "from sklearn.inspection import permutation_importance\n",
    "\n",
    "from yellowbrick.classifier import ConfusionMatrix\n",
    "from sklearn.model_selection import GridSearchCV,  RepeatedStratifiedKFold"
   ]
  },
  {
   "cell_type": "code",
   "execution_count": 38,
   "id": "9df5d350",
   "metadata": {},
   "outputs": [],
   "source": [
    "\"\"\"\n",
    "    Create functions to fit and predict the values of whether customer would complete the booking.\n",
    "    Also functions with metrics to evaluate the model prediction.\n",
    "\n",
    "\"\"\"\n",
    "\n",
    "def model_fit_predict(model, X, y, X_predict):\n",
    "    model.fit(X, y)\n",
    "    return model.predict(X_predict)\n",
    "\n",
    "def acc_score(y_true, y_pred):\n",
    "    return accuracy_score(y_true, y_pred)\n",
    "\n",
    "def pre_score(y_true, y_pred):\n",
    "    return precision_score(y_true, y_pred)\n",
    "\n",
    "def f_score(y_true, y_pred):\n",
    "    return f1_score(y_true, y_pred)"
   ]
  },
  {
   "cell_type": "markdown",
   "id": "ea947a37",
   "metadata": {},
   "source": [
    "Random Forest Classifier"
   ]
  },
  {
   "cell_type": "code",
   "execution_count": 39,
   "id": "5ba49b3f",
   "metadata": {},
   "outputs": [],
   "source": [
    "#create an instance of the classifier and fit the training data\n",
    "clf_rf = RandomForestClassifier(max_depth =50 , min_samples_split=5,random_state=0)"
   ]
  },
  {
   "cell_type": "markdown",
   "id": "0b5b2ba1",
   "metadata": {},
   "source": [
    "Checking Training accuracy"
   ]
  },
  {
   "cell_type": "code",
   "execution_count": 40,
   "id": "24562e68",
   "metadata": {},
   "outputs": [
    {
     "name": "stdout",
     "output_type": "stream",
     "text": [
      "Accuracy is 0.93, Precision is 1.0 and f1-score is 0.72 for training data\n"
     ]
    }
   ],
   "source": [
    "y_pred_train = model_fit_predict(clf_rf, X_train, y_train, X_train)\n",
    "set(y_pred_train)\n",
    "\n",
    "#f1 score for training data\n",
    "f1 = round(f1_score(y_train, y_pred_train),2) \n",
    "\n",
    "#accuracy score for training data\n",
    "acc = round(accuracy_score(y_train, y_pred_train),2) \n",
    "\n",
    "#precision score for training data\n",
    "pre = round(precision_score(y_train, y_pred_train),2) \n",
    "\n",
    "print(f\"Accuracy is {acc}, Precision is {pre} and f1-score is {f1} for training data\")"
   ]
  },
  {
   "cell_type": "code",
   "execution_count": 41,
   "id": "cae92ed1",
   "metadata": {},
   "outputs": [
    {
     "data": {
      "text/plain": [
       "0.9341002876078529"
      ]
     },
     "execution_count": 41,
     "metadata": {},
     "output_type": "execute_result"
    },
    {
     "data": {
      "image/png": "[encoded data removed]",
      "text/plain": [
       "<Figure size 576x396 with 1 Axes>"
      ]
     },
     "metadata": {},
     "output_type": "display_data"
    }
   ],
   "source": [
    "cm = ConfusionMatrix(clf_rf, classes=[0,1])\n",
    "cm.fit(X_train, y_train)\n",
    "\n",
    "cm.score(X_train, y_train)"
   ]
  },
  {
   "cell_type": "markdown",
   "id": "3da283aa",
   "metadata": {},
   "source": [
    "Checking Testing accuracy"
   ]
  },
  {
   "cell_type": "code",
   "execution_count": 57,
   "id": "c560f2ff",
   "metadata": {},
   "outputs": [
    {
     "name": "stdout",
     "output_type": "stream",
     "text": [
      "Accuracy is 0.63, Precision is 0.61 , Recall is 0.59, and f1-score is 0.6 for testing data\n"
     ]
    }
   ],
   "source": [
    "#create an instance of the classifier and fit the training data\n",
    "clf_rf = RandomForestClassifier(max_depth =50 , min_samples_split=5,random_state=0)\n",
    "\n",
    "y_pred_test = model_fit_predict(clf_rf, X_train, y_train, X_test)\n",
    "\n",
    "#f1 score for training data\n",
    "f1 = round(f1_score(y_test, y_pred_test),2) \n",
    "\n",
    "#accuracy score for training data\n",
    "acc = round(accuracy_score(y_test, y_pred_test),2) \n",
    "\n",
    "#precision score for training data\n",
    "pre = round(precision_score(y_test, y_pred_test),2) \n",
    "\n",
    "recall = round(recall_score(y_test, y_pred_test),2)\n",
    "\n",
    "print(f\"Accuracy is {acc}, Precision is {pre} , Recall is {recall}, and f1-score is {f1} for testing data\")"
   ]
  },
  {
   "cell_type": "code",
   "execution_count": 43,
   "id": "6064debb",
   "metadata": {},
   "outputs": [
    {
     "data": {
      "text/plain": [
       "0.8554566369910973"
      ]
     },
     "execution_count": 43,
     "metadata": {},
     "output_type": "execute_result"
    },
    {
     "data": {
      "image/png": "[encoded data removed]",
      "text/plain": [
       "<Figure size 576x396 with 1 Axes>"
      ]
     },
     "metadata": {},
     "output_type": "display_data"
    }
   ],
   "source": [
    "cm = ConfusionMatrix(clf_rf, classes=[0,1])\n",
    "cm.fit(X_train, y_train)\n",
    "\n",
    "cm.score(X_test, y_test)"
   ]
  },
  {
   "cell_type": "code",
   "execution_count": 44,
   "id": "4c4773bf",
   "metadata": {},
   "outputs": [
    {
     "data": {
      "text/plain": [
       "Text(0.5, 0, 'Random Forest Feature Importance')"
      ]
     },
     "execution_count": 44,
     "metadata": {},
     "output_type": "execute_result"
    },
    {
     "data": {
      "image/png": "[encoded data removed]",
      "text/plain": [
       "<Figure size 720x360 with 1 Axes>"
      ]
     },
     "metadata": {},
     "output_type": "display_data"
    }
   ],
   "source": [
    "plt.figure(figsize=(10, 5))\n",
    "sorted_idx = clf_rf.feature_importances_.argsort()\n",
    "\n",
    "# Define the color for the bars\n",
    "bar_color = 'red'  # Change this to any valid Matplotlib color, e.g., 'red', '#FF5733', etc.\n",
    "\n",
    "plt.barh(scaled_df.iloc[:, :-1].columns[sorted_idx], clf_rf.feature_importances_[sorted_idx], color=bar_color)\n",
    "plt.xlabel(\"Random Forest Feature Importance\")\n"
   ]
  },
  {
   "cell_type": "markdown",
   "id": "4bbc9b2d",
   "metadata": {},
   "source": [
    "One major problem behind getting low F1 score is imbalanced dataset. We have higher entries that are classified 0 than 1. We could reduce the number of entries that are classified 0 to be equal around the number of entries that are classified as 1."
   ]
  },
  {
   "cell_type": "markdown",
   "id": "955ad2e6",
   "metadata": {},
   "source": [
    "Balancing the dataset"
   ]
  },
  {
   "cell_type": "code",
   "execution_count": 45,
   "id": "aa39c73b",
   "metadata": {},
   "outputs": [
    {
     "data": {
      "text/plain": [
       "0    42506\n",
       "1     7476\n",
       "Name: label, dtype: int64"
      ]
     },
     "execution_count": 45,
     "metadata": {},
     "output_type": "execute_result"
    }
   ],
   "source": [
    "scaled_df.label.value_counts()"
   ]
  },
  {
   "cell_type": "code",
   "execution_count": 46,
   "id": "58f6a54c",
   "metadata": {},
   "outputs": [],
   "source": [
    "#create a dataframe having all labels 0 with 10000 samples\n",
    "scaled_df_0 = scaled_df[scaled_df.label ==0].sample(n=8000)"
   ]
  },
  {
   "cell_type": "code",
   "execution_count": 47,
   "id": "21e8cabc",
   "metadata": {},
   "outputs": [],
   "source": [
    "#concatenate the two dataframee, one havng all labels 0 and other having all labels as 1\n",
    "scaled_df_new = pd.concat([scaled_df[scaled_df.label==1], scaled_df_0], ignore_index=True)"
   ]
  },
  {
   "cell_type": "code",
   "execution_count": 48,
   "id": "6c476b05",
   "metadata": {},
   "outputs": [],
   "source": [
    "#shuffle the dataframe rows\n",
    "scaled_df_new = scaled_df_new.sample(frac = 1).reset_index(drop=True)"
   ]
  },
  {
   "cell_type": "code",
   "execution_count": 49,
   "id": "9c9df286",
   "metadata": {},
   "outputs": [
    {
     "data": {
      "text/html": [
       "<div>\n",
       "<style scoped>\n",
       "    .dataframe tbody tr th:only-of-type {\n",
       "        vertical-align: middle;\n",
       "    }\n",
       "\n",
       "    .dataframe tbody tr th {\n",
       "        vertical-align: top;\n",
       "    }\n",
       "\n",
       "    .dataframe thead th {\n",
       "        text-align: right;\n",
       "    }\n",
       "</style>\n",
       "<table border=\"1\" class=\"dataframe\">\n",
       "  <thead>\n",
       "    <tr style=\"text-align: right;\">\n",
       "      <th></th>\n",
       "      <th>num_passengers</th>\n",
       "      <th>purchase_lead</th>\n",
       "      <th>length_of_stay</th>\n",
       "      <th>flight_hour</th>\n",
       "      <th>flight_day</th>\n",
       "      <th>wants_extra_baggage</th>\n",
       "      <th>wants_preferred_seat</th>\n",
       "      <th>wants_in_flight_meals</th>\n",
       "      <th>flight_duration</th>\n",
       "      <th>Internet</th>\n",
       "      <th>Mobile</th>\n",
       "      <th>RoundTRip</th>\n",
       "      <th>OneWayTrip</th>\n",
       "      <th>CircleTrip</th>\n",
       "      <th>label</th>\n",
       "    </tr>\n",
       "  </thead>\n",
       "  <tbody>\n",
       "    <tr>\n",
       "      <th>0</th>\n",
       "      <td>0.400769</td>\n",
       "      <td>-0.631152</td>\n",
       "      <td>-0.561979</td>\n",
       "      <td>-1.674891</td>\n",
       "      <td>0.093214</td>\n",
       "      <td>0.703587</td>\n",
       "      <td>-0.650054</td>\n",
       "      <td>1.158002</td>\n",
       "      <td>-0.439155</td>\n",
       "      <td>0.355786</td>\n",
       "      <td>-0.355786</td>\n",
       "      <td>-0.048231</td>\n",
       "      <td>-0.088336</td>\n",
       "      <td>0.100826</td>\n",
       "      <td>0</td>\n",
       "    </tr>\n",
       "    <tr>\n",
       "      <th>1</th>\n",
       "      <td>0.400769</td>\n",
       "      <td>0.169539</td>\n",
       "      <td>-0.502969</td>\n",
       "      <td>-0.012073</td>\n",
       "      <td>0.093214</td>\n",
       "      <td>-1.421288</td>\n",
       "      <td>-0.650054</td>\n",
       "      <td>-0.863557</td>\n",
       "      <td>-0.439155</td>\n",
       "      <td>0.355786</td>\n",
       "      <td>-0.355786</td>\n",
       "      <td>-0.048231</td>\n",
       "      <td>-0.088336</td>\n",
       "      <td>0.100826</td>\n",
       "      <td>0</td>\n",
       "    </tr>\n",
       "    <tr>\n",
       "      <th>2</th>\n",
       "      <td>0.400769</td>\n",
       "      <td>-0.230806</td>\n",
       "      <td>-0.178411</td>\n",
       "      <td>0.357443</td>\n",
       "      <td>-0.408618</td>\n",
       "      <td>0.703587</td>\n",
       "      <td>1.538334</td>\n",
       "      <td>-0.863557</td>\n",
       "      <td>-1.107240</td>\n",
       "      <td>0.355786</td>\n",
       "      <td>-0.355786</td>\n",
       "      <td>-0.048231</td>\n",
       "      <td>-0.088336</td>\n",
       "      <td>0.100826</td>\n",
       "      <td>0</td>\n",
       "    </tr>\n",
       "    <tr>\n",
       "      <th>3</th>\n",
       "      <td>0.400769</td>\n",
       "      <td>-0.030634</td>\n",
       "      <td>-0.561979</td>\n",
       "      <td>-0.012073</td>\n",
       "      <td>0.595045</td>\n",
       "      <td>0.703587</td>\n",
       "      <td>-0.650054</td>\n",
       "      <td>-0.863557</td>\n",
       "      <td>-0.439155</td>\n",
       "      <td>0.355786</td>\n",
       "      <td>-0.355786</td>\n",
       "      <td>-0.048231</td>\n",
       "      <td>-0.088336</td>\n",
       "      <td>0.100826</td>\n",
       "      <td>0</td>\n",
       "    </tr>\n",
       "    <tr>\n",
       "      <th>4</th>\n",
       "      <td>-0.579424</td>\n",
       "      <td>-0.664514</td>\n",
       "      <td>-0.591484</td>\n",
       "      <td>-0.935861</td>\n",
       "      <td>-1.412280</td>\n",
       "      <td>-1.421288</td>\n",
       "      <td>-0.650054</td>\n",
       "      <td>-0.863557</td>\n",
       "      <td>-0.439155</td>\n",
       "      <td>0.355786</td>\n",
       "      <td>-0.355786</td>\n",
       "      <td>-0.048231</td>\n",
       "      <td>-0.088336</td>\n",
       "      <td>0.100826</td>\n",
       "      <td>0</td>\n",
       "    </tr>\n",
       "    <tr>\n",
       "      <th>...</th>\n",
       "      <td>...</td>\n",
       "      <td>...</td>\n",
       "      <td>...</td>\n",
       "      <td>...</td>\n",
       "      <td>...</td>\n",
       "      <td>...</td>\n",
       "      <td>...</td>\n",
       "      <td>...</td>\n",
       "      <td>...</td>\n",
       "      <td>...</td>\n",
       "      <td>...</td>\n",
       "      <td>...</td>\n",
       "      <td>...</td>\n",
       "      <td>...</td>\n",
       "      <td>...</td>\n",
       "    </tr>\n",
       "    <tr>\n",
       "      <th>15471</th>\n",
       "      <td>-0.579424</td>\n",
       "      <td>-0.920290</td>\n",
       "      <td>-0.119401</td>\n",
       "      <td>-0.196830</td>\n",
       "      <td>-0.408618</td>\n",
       "      <td>0.703587</td>\n",
       "      <td>-0.650054</td>\n",
       "      <td>-0.863557</td>\n",
       "      <td>0.195526</td>\n",
       "      <td>0.355786</td>\n",
       "      <td>-0.355786</td>\n",
       "      <td>-0.048231</td>\n",
       "      <td>-0.088336</td>\n",
       "      <td>0.100826</td>\n",
       "      <td>1</td>\n",
       "    </tr>\n",
       "    <tr>\n",
       "      <th>15472</th>\n",
       "      <td>-0.579424</td>\n",
       "      <td>0.280746</td>\n",
       "      <td>-0.178411</td>\n",
       "      <td>-0.935861</td>\n",
       "      <td>1.096876</td>\n",
       "      <td>-1.421288</td>\n",
       "      <td>-0.650054</td>\n",
       "      <td>1.158002</td>\n",
       "      <td>-1.107240</td>\n",
       "      <td>0.355786</td>\n",
       "      <td>-0.355786</td>\n",
       "      <td>-0.048231</td>\n",
       "      <td>-0.088336</td>\n",
       "      <td>0.100826</td>\n",
       "      <td>0</td>\n",
       "    </tr>\n",
       "    <tr>\n",
       "      <th>15473</th>\n",
       "      <td>2.361155</td>\n",
       "      <td>-0.486582</td>\n",
       "      <td>-0.001380</td>\n",
       "      <td>0.726958</td>\n",
       "      <td>-0.408618</td>\n",
       "      <td>0.703587</td>\n",
       "      <td>1.538334</td>\n",
       "      <td>1.158002</td>\n",
       "      <td>1.037314</td>\n",
       "      <td>0.355786</td>\n",
       "      <td>-0.355786</td>\n",
       "      <td>-0.048231</td>\n",
       "      <td>-0.088336</td>\n",
       "      <td>0.100826</td>\n",
       "      <td>1</td>\n",
       "    </tr>\n",
       "    <tr>\n",
       "      <th>15474</th>\n",
       "      <td>-0.579424</td>\n",
       "      <td>-0.931411</td>\n",
       "      <td>-0.561979</td>\n",
       "      <td>-1.305376</td>\n",
       "      <td>0.093214</td>\n",
       "      <td>-1.421288</td>\n",
       "      <td>-0.650054</td>\n",
       "      <td>-0.863557</td>\n",
       "      <td>-0.439155</td>\n",
       "      <td>-2.810681</td>\n",
       "      <td>2.810681</td>\n",
       "      <td>-0.048231</td>\n",
       "      <td>-0.088336</td>\n",
       "      <td>0.100826</td>\n",
       "      <td>1</td>\n",
       "    </tr>\n",
       "    <tr>\n",
       "      <th>15475</th>\n",
       "      <td>0.400769</td>\n",
       "      <td>1.314971</td>\n",
       "      <td>-0.561979</td>\n",
       "      <td>-0.196830</td>\n",
       "      <td>0.093214</td>\n",
       "      <td>-1.421288</td>\n",
       "      <td>1.538334</td>\n",
       "      <td>-0.863557</td>\n",
       "      <td>-1.107240</td>\n",
       "      <td>0.355786</td>\n",
       "      <td>-0.355786</td>\n",
       "      <td>-0.048231</td>\n",
       "      <td>-0.088336</td>\n",
       "      <td>0.100826</td>\n",
       "      <td>0</td>\n",
       "    </tr>\n",
       "  </tbody>\n",
       "</table>\n",
       "<p>15476 rows × 15 columns</p>\n",
       "</div>"
      ],
      "text/plain": [
       "       num_passengers  purchase_lead  length_of_stay  flight_hour  flight_day  \\\n",
       "0            0.400769      -0.631152       -0.561979    -1.674891    0.093214   \n",
       "1            0.400769       0.169539       -0.502969    -0.012073    0.093214   \n",
       "2            0.400769      -0.230806       -0.178411     0.357443   -0.408618   \n",
       "3            0.400769      -0.030634       -0.561979    -0.012073    0.595045   \n",
       "4           -0.579424      -0.664514       -0.591484    -0.935861   -1.412280   \n",
       "...               ...            ...             ...          ...         ...   \n",
       "15471       -0.579424      -0.920290       -0.119401    -0.196830   -0.408618   \n",
       "15472       -0.579424       0.280746       -0.178411    -0.935861    1.096876   \n",
       "15473        2.361155      -0.486582       -0.001380     0.726958   -0.408618   \n",
       "15474       -0.579424      -0.931411       -0.561979    -1.305376    0.093214   \n",
       "15475        0.400769       1.314971       -0.561979    -0.196830    0.093214   \n",
       "\n",
       "       wants_extra_baggage  wants_preferred_seat  wants_in_flight_meals  \\\n",
       "0                 0.703587             -0.650054               1.158002   \n",
       "1                -1.421288             -0.650054              -0.863557   \n",
       "2                 0.703587              1.538334              -0.863557   \n",
       "3                 0.703587             -0.650054              -0.863557   \n",
       "4                -1.421288             -0.650054              -0.863557   \n",
       "...                    ...                   ...                    ...   \n",
       "15471             0.703587             -0.650054              -0.863557   \n",
       "15472            -1.421288             -0.650054               1.158002   \n",
       "15473             0.703587              1.538334               1.158002   \n",
       "15474            -1.421288             -0.650054              -0.863557   \n",
       "15475            -1.421288              1.538334              -0.863557   \n",
       "\n",
       "       flight_duration  Internet    Mobile  RoundTRip  OneWayTrip  CircleTrip  \\\n",
       "0            -0.439155  0.355786 -0.355786  -0.048231   -0.088336    0.100826   \n",
       "1            -0.439155  0.355786 -0.355786  -0.048231   -0.088336    0.100826   \n",
       "2            -1.107240  0.355786 -0.355786  -0.048231   -0.088336    0.100826   \n",
       "3            -0.439155  0.355786 -0.355786  -0.048231   -0.088336    0.100826   \n",
       "4            -0.439155  0.355786 -0.355786  -0.048231   -0.088336    0.100826   \n",
       "...                ...       ...       ...        ...         ...         ...   \n",
       "15471         0.195526  0.355786 -0.355786  -0.048231   -0.088336    0.100826   \n",
       "15472        -1.107240  0.355786 -0.355786  -0.048231   -0.088336    0.100826   \n",
       "15473         1.037314  0.355786 -0.355786  -0.048231   -0.088336    0.100826   \n",
       "15474        -0.439155 -2.810681  2.810681  -0.048231   -0.088336    0.100826   \n",
       "15475        -1.107240  0.355786 -0.355786  -0.048231   -0.088336    0.100826   \n",
       "\n",
       "       label  \n",
       "0          0  \n",
       "1          0  \n",
       "2          0  \n",
       "3          0  \n",
       "4          0  \n",
       "...      ...  \n",
       "15471      1  \n",
       "15472      0  \n",
       "15473      1  \n",
       "15474      1  \n",
       "15475      0  \n",
       "\n",
       "[15476 rows x 15 columns]"
      ]
     },
     "execution_count": 49,
     "metadata": {},
     "output_type": "execute_result"
    }
   ],
   "source": [
    "scaled_df_new"
   ]
  },
  {
   "cell_type": "code",
   "execution_count": 50,
   "id": "88686800",
   "metadata": {},
   "outputs": [],
   "source": [
    "X = scaled_df_new.iloc[:,:-1]\n",
    "y = scaled_df_new['label']\n",
    "\n",
    "X_train, X_test, y_train, y_test = train_test_split(X.to_numpy(), y.to_numpy(), test_size=0.20, random_state=42)"
   ]
  },
  {
   "cell_type": "code",
   "execution_count": 51,
   "id": "c96ffa9f",
   "metadata": {},
   "outputs": [],
   "source": [
    "#create an instance of the classifier and fit the training data\n",
    "clf_rf = RandomForestClassifier(n_estimators=50,max_depth =50 , min_samples_split=5,random_state=0)"
   ]
  },
  {
   "cell_type": "code",
   "execution_count": 60,
   "id": "cdfc8b76",
   "metadata": {},
   "outputs": [
    {
     "name": "stdout",
     "output_type": "stream",
     "text": [
      "Accuracy is 0.63, Precision is 0.61 , Recall is 0.59, and f1-score is 0.6 for testing data\n"
     ]
    }
   ],
   "source": [
    "y_pred_test = model_fit_predict(clf_rf, X_train, y_train, X_test)\n",
    "\n",
    "#f1 score for training data\n",
    "f1 = round(f1_score(y_test, y_pred_test),2) \n",
    "\n",
    "#accuracy score for training data\n",
    "acc = round(accuracy_score(y_test, y_pred_test),2) \n",
    "\n",
    "#precision score for training data\n",
    "pre = round(precision_score(y_test, y_pred_test),2) \n",
    "\n",
    "specificity = round(recall_score(y_test, y_pred_test, pos_label=0),2)\n",
    "\n",
    "recall = round(recall_score(y_test, y_pred_test),2)\n",
    "\n",
    "print(f\"Accuracy is {acc}, Precision is {pre} , Recall is {recall}, and f1-score is {f1} for testing data\")"
   ]
  },
  {
   "cell_type": "code",
   "execution_count": 54,
   "id": "1fc9dd1d",
   "metadata": {},
   "outputs": [
    {
     "data": {
      "text/plain": [
       "0.6304909560723514"
      ]
     },
     "execution_count": 54,
     "metadata": {},
     "output_type": "execute_result"
    },
    {
     "data": {
      "image/png": "[encoded data removed]",
      "text/plain": [
       "<Figure size 576x396 with 1 Axes>"
      ]
     },
     "metadata": {},
     "output_type": "display_data"
    }
   ],
   "source": [
    "cm = ConfusionMatrix(clf_rf, classes=[0,1])\n",
    "cm.fit(X_train, y_train)\n",
    "\n",
    "cm.score(X_test, y_test)"
   ]
  },
  {
   "cell_type": "code",
   "execution_count": 55,
   "id": "d10963df",
   "metadata": {},
   "outputs": [
    {
     "data": {
      "text/plain": [
       "Text(0.5, 0, 'Random Forest Feature Importance')"
      ]
     },
     "execution_count": 55,
     "metadata": {},
     "output_type": "execute_result"
    },
    {
     "data": {
      "image/png": "[encoded data removed]",
      "text/plain": [
       "<Figure size 720x576 with 1 Axes>"
      ]
     },
     "metadata": {},
     "output_type": "display_data"
    }
   ],
   "source": [
    "plt.figure(figsize=(10,8))\n",
    "sorted_idx = clf_rf.feature_importances_.argsort()\n",
    "plt.barh(scaled_df.iloc[:,:-1].columns[sorted_idx], clf_rf.feature_importances_[sorted_idx])\n",
    "plt.xlabel(\"Random Forest Feature Importance\")"
   ]
  }
 ],
 "metadata": {
  "kernelspec": {
   "display_name": "Python 3 (ipykernel)",
   "language": "python",
   "name": "python3"
  },
  "language_info": {
   "codemirror_mode": {
    "name": "ipython",
    "version": 3
   },
   "file_extension": ".py",
   "mimetype": "text/x-python",
   "name": "python",
   "nbconvert_exporter": "python",
   "pygments_lexer": "ipython3",
   "version": "3.8.12"
  }
 },
 "nbformat": 4,
 "nbformat_minor": 5
}
